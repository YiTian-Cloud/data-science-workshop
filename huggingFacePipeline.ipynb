{
 "cells": [
  {
   "cell_type": "raw",
   "id": "2b12e153-1a5c-4242-b9a6-96e34a36b15c",
   "metadata": {
    "jupyter": {
     "source_hidden": true
    }
   },
   "source": [
    "# HuggingFace Pipelines\n",
    "from transformers import pipeline\n",
    "from ads.model import HuggingFacePipelineModel\n",
    "\n",
    "import tempfile\n",
    "import PIL.Image\n",
    "from ads.common.auth import default_signer\n",
    "import requests\n",
    "import cloudpickle\n",
    "\n",
    "## download the image\n",
    "image_url = \"https://huggingface.co/datasets/Narsil/image_dummy/raw/main/parrots.png\"\n",
    "image = PIL.Image.open(requests.get(image_url, stream=True).raw)\n",
    "\n",
    "## download the pretrained model\n",
    "classifier = pipeline(model=\"openai/clip-vit-large-patch14\")\n",
    "classifier(\n",
    "        images=image,\n",
    "        candidate_labels=[\"animals\", \"humans\", \"landscape\"],\n",
    "    )\n",
    "\n",
    "## Initiate a HuggingFacePipelineModel instance\n",
    "zero_shot_image_classification_model = HuggingFacePipelineModel(classifier, artifact_dir=tempfile.mkdtemp())\n",
    "\n",
    "# Autogenerate score.py, serialized model, runtime.yaml\n",
    "conda_pack_path = \"oci://bucket@namespace/path/to/conda/pack\"\n",
    "python_version = \"3.x\" # Remember to update 3.x with your actual python version, e.g. 3.8\n",
    "zero_shot_image_classification_model.prepare(inference_conda_env=conda_pack_path, inference_python_version = python_version, force_overwrite=True)\n",
    "\n",
    "## Convert payload to bytes\n",
    "data = {\"images\": image, \"candidate_labels\": [\"animals\", \"humans\", \"landscape\"]}\n",
    "body = cloudpickle.dumps(data) # convert image to bytes\n",
    "\n",
    "# Verify generated artifacts\n",
    "zero_shot_image_classification_model.verify(data=data)\n",
    "zero_shot_image_classification_model.verify(data=body)\n",
    "\n",
    "# Register HuggingFace Pipeline model\n",
    "zero_shot_image_classification_model.save()\n",
    "\n",
    "## Deploy\n",
    "log_group_id = \"<log_group_id>\"\n",
    "log_id = \"<log_id>\"\n",
    "zero_shot_image_classification_model.deploy(deployment_bandwidth_mbps=100,\n",
    "                wait_for_completion=False,\n",
    "                deployment_log_group_id = log_group_id,\n",
    "                deployment_access_log_id = log_id,\n",
    "                deployment_predict_log_id = log_id)\n",
    "zero_shot_image_classification_model.predict(data)\n",
    "zero_shot_image_classification_model.predict(body)\n",
    "\n",
    "### Invoke the model by sending bytes\n",
    "auth = default_signer()['signer']\n",
    "endpoint = zero_shot_image_classification_model.model_deployment.url + \"/predict\"\n",
    "headers = {\"Content-Type\": \"application/octet-stream\"}\n",
    "requests.post(endpoint, data=body, auth=auth, headers=headers).json()"
   ]
  },
  {
   "cell_type": "code",
   "execution_count": 4,
   "id": "bfaf21cd-a70c-484b-981c-a8374552785d",
   "metadata": {
    "collapsed": true,
    "jupyter": {
     "outputs_hidden": true
    },
    "scrolled": true
   },
   "outputs": [
    {
     "name": "stdout",
     "output_type": "stream",
     "text": [
      "Requirement already satisfied: transformers in c:\\users\\ytian\\miniconda3\\envs\\localds2\\lib\\site-packages (4.57.1)\n",
      "Requirement already satisfied: torch in c:\\users\\ytian\\miniconda3\\envs\\localds2\\lib\\site-packages (2.8.0)\n",
      "Requirement already satisfied: filelock in c:\\users\\ytian\\miniconda3\\envs\\localds2\\lib\\site-packages (from transformers) (3.20.0)\n",
      "Requirement already satisfied: huggingface-hub<1.0,>=0.34.0 in c:\\users\\ytian\\miniconda3\\envs\\localds2\\lib\\site-packages (from transformers) (0.35.3)\n",
      "Requirement already satisfied: numpy>=1.17 in c:\\users\\ytian\\miniconda3\\envs\\localds2\\lib\\site-packages (from transformers) (2.3.3)\n",
      "Requirement already satisfied: packaging>=20.0 in c:\\users\\ytian\\miniconda3\\envs\\localds2\\lib\\site-packages (from transformers) (25.0)\n",
      "Requirement already satisfied: pyyaml>=5.1 in c:\\users\\ytian\\miniconda3\\envs\\localds2\\lib\\site-packages (from transformers) (6.0.3)\n",
      "Requirement already satisfied: regex!=2019.12.17 in c:\\users\\ytian\\miniconda3\\envs\\localds2\\lib\\site-packages (from transformers) (2025.9.18)\n",
      "Requirement already satisfied: requests in c:\\users\\ytian\\miniconda3\\envs\\localds2\\lib\\site-packages (from transformers) (2.32.5)\n",
      "Requirement already satisfied: tokenizers<=0.23.0,>=0.22.0 in c:\\users\\ytian\\miniconda3\\envs\\localds2\\lib\\site-packages (from transformers) (0.22.1)\n",
      "Requirement already satisfied: safetensors>=0.4.3 in c:\\users\\ytian\\miniconda3\\envs\\localds2\\lib\\site-packages (from transformers) (0.6.2)\n",
      "Requirement already satisfied: tqdm>=4.27 in c:\\users\\ytian\\miniconda3\\envs\\localds2\\lib\\site-packages (from transformers) (4.67.1)\n",
      "Requirement already satisfied: fsspec>=2023.5.0 in c:\\users\\ytian\\miniconda3\\envs\\localds2\\lib\\site-packages (from huggingface-hub<1.0,>=0.34.0->transformers) (2025.9.0)\n",
      "Requirement already satisfied: typing-extensions>=3.7.4.3 in c:\\users\\ytian\\miniconda3\\envs\\localds2\\lib\\site-packages (from huggingface-hub<1.0,>=0.34.0->transformers) (4.15.0)\n",
      "Requirement already satisfied: sympy>=1.13.3 in c:\\users\\ytian\\miniconda3\\envs\\localds2\\lib\\site-packages (from torch) (1.14.0)\n",
      "Requirement already satisfied: networkx in c:\\users\\ytian\\miniconda3\\envs\\localds2\\lib\\site-packages (from torch) (3.5)\n",
      "Requirement already satisfied: jinja2 in c:\\users\\ytian\\miniconda3\\envs\\localds2\\lib\\site-packages (from torch) (3.1.6)\n",
      "Requirement already satisfied: mpmath<1.4,>=1.1.0 in c:\\users\\ytian\\miniconda3\\envs\\localds2\\lib\\site-packages (from sympy>=1.13.3->torch) (1.3.0)\n",
      "Requirement already satisfied: colorama in c:\\users\\ytian\\miniconda3\\envs\\localds2\\lib\\site-packages (from tqdm>=4.27->transformers) (0.4.6)\n",
      "Requirement already satisfied: MarkupSafe>=2.0 in c:\\users\\ytian\\miniconda3\\envs\\localds2\\lib\\site-packages (from jinja2->torch) (3.0.3)\n",
      "Requirement already satisfied: charset_normalizer<4,>=2 in c:\\users\\ytian\\miniconda3\\envs\\localds2\\lib\\site-packages (from requests->transformers) (3.4.3)\n",
      "Requirement already satisfied: idna<4,>=2.5 in c:\\users\\ytian\\miniconda3\\envs\\localds2\\lib\\site-packages (from requests->transformers) (3.10)\n",
      "Requirement already satisfied: urllib3<3,>=1.21.1 in c:\\users\\ytian\\miniconda3\\envs\\localds2\\lib\\site-packages (from requests->transformers) (2.5.0)\n",
      "Requirement already satisfied: certifi>=2017.4.17 in c:\\users\\ytian\\miniconda3\\envs\\localds2\\lib\\site-packages (from requests->transformers) (2025.10.5)\n",
      "Note: you may need to restart the kernel to use updated packages.\n"
     ]
    }
   ],
   "source": [
    "%pip install transformers torch\n"
   ]
  },
  {
   "cell_type": "code",
   "execution_count": 2,
   "id": "cecd8388-dc83-4657-b8cb-aba84cfd4256",
   "metadata": {},
   "outputs": [],
   "source": [
    "from transformers import pipeline\n"
   ]
  },
  {
   "cell_type": "code",
   "execution_count": 2,
   "id": "d9f89ac8-b859-4f03-883c-e2db14b172f0",
   "metadata": {},
   "outputs": [
    {
     "name": "stdout",
     "output_type": "stream",
     "text": [
      "Using device: CPU\n"
     ]
    }
   ],
   "source": [
    "# If you haven't installed these yet, uncomment:\n",
    "# !pip install -U transformers torch accelerate sentencepiece fastapi uvicorn[standard] Pillow\n",
    "\n",
    "import os\n",
    "import torch\n",
    "from transformers import pipeline\n",
    "\n",
    "# Optional: set a custom cache dir (e.g., to keep your home clean)\n",
    "# os.environ[\"HF_HOME\"] = \"/tmp/hf_home\"\n",
    "\n",
    "DEVICE = 0 if torch.cuda.is_available() else -1  # GPU if available, else CPU\n",
    "print(\"Using device:\", \"CUDA\" if DEVICE == 0 else \"CPU\")\n"
   ]
  },
  {
   "cell_type": "code",
   "execution_count": 8,
   "id": "0accd8ec-fc3f-410b-8bb1-77f541dd5378",
   "metadata": {
    "collapsed": true,
    "jupyter": {
     "outputs_hidden": true
    }
   },
   "outputs": [
    {
     "name": "stdout",
     "output_type": "stream",
     "text": [
      "Collecting tf-keras\n",
      "  Downloading tf_keras-2.20.1-py3-none-any.whl.metadata (1.8 kB)\n",
      "Requirement already satisfied: tensorflow<2.21,>=2.20 in c:\\users\\ytian\\miniconda3\\envs\\localds2\\lib\\site-packages (from tf-keras) (2.20.0)\n",
      "Requirement already satisfied: absl-py>=1.0.0 in c:\\users\\ytian\\miniconda3\\envs\\localds2\\lib\\site-packages (from tensorflow<2.21,>=2.20->tf-keras) (2.3.1)\n",
      "Requirement already satisfied: astunparse>=1.6.0 in c:\\users\\ytian\\miniconda3\\envs\\localds2\\lib\\site-packages (from tensorflow<2.21,>=2.20->tf-keras) (1.6.3)\n",
      "Requirement already satisfied: flatbuffers>=24.3.25 in c:\\users\\ytian\\miniconda3\\envs\\localds2\\lib\\site-packages (from tensorflow<2.21,>=2.20->tf-keras) (25.9.23)\n",
      "Requirement already satisfied: gast!=0.5.0,!=0.5.1,!=0.5.2,>=0.2.1 in c:\\users\\ytian\\miniconda3\\envs\\localds2\\lib\\site-packages (from tensorflow<2.21,>=2.20->tf-keras) (0.6.0)\n",
      "Requirement already satisfied: google_pasta>=0.1.1 in c:\\users\\ytian\\miniconda3\\envs\\localds2\\lib\\site-packages (from tensorflow<2.21,>=2.20->tf-keras) (0.2.0)\n",
      "Requirement already satisfied: libclang>=13.0.0 in c:\\users\\ytian\\miniconda3\\envs\\localds2\\lib\\site-packages (from tensorflow<2.21,>=2.20->tf-keras) (18.1.1)\n",
      "Requirement already satisfied: opt_einsum>=2.3.2 in c:\\users\\ytian\\miniconda3\\envs\\localds2\\lib\\site-packages (from tensorflow<2.21,>=2.20->tf-keras) (3.4.0)\n",
      "Requirement already satisfied: packaging in c:\\users\\ytian\\miniconda3\\envs\\localds2\\lib\\site-packages (from tensorflow<2.21,>=2.20->tf-keras) (25.0)\n",
      "Requirement already satisfied: protobuf>=5.28.0 in c:\\users\\ytian\\miniconda3\\envs\\localds2\\lib\\site-packages (from tensorflow<2.21,>=2.20->tf-keras) (6.32.1)\n",
      "Requirement already satisfied: requests<3,>=2.21.0 in c:\\users\\ytian\\miniconda3\\envs\\localds2\\lib\\site-packages (from tensorflow<2.21,>=2.20->tf-keras) (2.32.5)\n",
      "Requirement already satisfied: setuptools in c:\\users\\ytian\\miniconda3\\envs\\localds2\\lib\\site-packages (from tensorflow<2.21,>=2.20->tf-keras) (80.9.0)\n",
      "Requirement already satisfied: six>=1.12.0 in c:\\users\\ytian\\miniconda3\\envs\\localds2\\lib\\site-packages (from tensorflow<2.21,>=2.20->tf-keras) (1.17.0)\n",
      "Requirement already satisfied: termcolor>=1.1.0 in c:\\users\\ytian\\miniconda3\\envs\\localds2\\lib\\site-packages (from tensorflow<2.21,>=2.20->tf-keras) (3.1.0)\n",
      "Requirement already satisfied: typing_extensions>=3.6.6 in c:\\users\\ytian\\miniconda3\\envs\\localds2\\lib\\site-packages (from tensorflow<2.21,>=2.20->tf-keras) (4.15.0)\n",
      "Requirement already satisfied: wrapt>=1.11.0 in c:\\users\\ytian\\miniconda3\\envs\\localds2\\lib\\site-packages (from tensorflow<2.21,>=2.20->tf-keras) (1.17.3)\n",
      "Requirement already satisfied: grpcio<2.0,>=1.24.3 in c:\\users\\ytian\\miniconda3\\envs\\localds2\\lib\\site-packages (from tensorflow<2.21,>=2.20->tf-keras) (1.75.1)\n",
      "Requirement already satisfied: tensorboard~=2.20.0 in c:\\users\\ytian\\miniconda3\\envs\\localds2\\lib\\site-packages (from tensorflow<2.21,>=2.20->tf-keras) (2.20.0)\n",
      "Requirement already satisfied: keras>=3.10.0 in c:\\users\\ytian\\miniconda3\\envs\\localds2\\lib\\site-packages (from tensorflow<2.21,>=2.20->tf-keras) (3.11.3)\n",
      "Requirement already satisfied: numpy>=1.26.0 in c:\\users\\ytian\\miniconda3\\envs\\localds2\\lib\\site-packages (from tensorflow<2.21,>=2.20->tf-keras) (2.3.3)\n",
      "Requirement already satisfied: h5py>=3.11.0 in c:\\users\\ytian\\miniconda3\\envs\\localds2\\lib\\site-packages (from tensorflow<2.21,>=2.20->tf-keras) (3.15.0)\n",
      "Requirement already satisfied: ml_dtypes<1.0.0,>=0.5.1 in c:\\users\\ytian\\miniconda3\\envs\\localds2\\lib\\site-packages (from tensorflow<2.21,>=2.20->tf-keras) (0.5.3)\n",
      "Requirement already satisfied: charset_normalizer<4,>=2 in c:\\users\\ytian\\miniconda3\\envs\\localds2\\lib\\site-packages (from requests<3,>=2.21.0->tensorflow<2.21,>=2.20->tf-keras) (3.4.3)\n",
      "Requirement already satisfied: idna<4,>=2.5 in c:\\users\\ytian\\miniconda3\\envs\\localds2\\lib\\site-packages (from requests<3,>=2.21.0->tensorflow<2.21,>=2.20->tf-keras) (3.10)\n",
      "Requirement already satisfied: urllib3<3,>=1.21.1 in c:\\users\\ytian\\miniconda3\\envs\\localds2\\lib\\site-packages (from requests<3,>=2.21.0->tensorflow<2.21,>=2.20->tf-keras) (2.5.0)\n",
      "Requirement already satisfied: certifi>=2017.4.17 in c:\\users\\ytian\\miniconda3\\envs\\localds2\\lib\\site-packages (from requests<3,>=2.21.0->tensorflow<2.21,>=2.20->tf-keras) (2025.10.5)\n",
      "Requirement already satisfied: markdown>=2.6.8 in c:\\users\\ytian\\miniconda3\\envs\\localds2\\lib\\site-packages (from tensorboard~=2.20.0->tensorflow<2.21,>=2.20->tf-keras) (3.9)\n",
      "Requirement already satisfied: pillow in c:\\users\\ytian\\miniconda3\\envs\\localds2\\lib\\site-packages (from tensorboard~=2.20.0->tensorflow<2.21,>=2.20->tf-keras) (11.3.0)\n",
      "Requirement already satisfied: tensorboard-data-server<0.8.0,>=0.7.0 in c:\\users\\ytian\\miniconda3\\envs\\localds2\\lib\\site-packages (from tensorboard~=2.20.0->tensorflow<2.21,>=2.20->tf-keras) (0.7.2)\n",
      "Requirement already satisfied: werkzeug>=1.0.1 in c:\\users\\ytian\\miniconda3\\envs\\localds2\\lib\\site-packages (from tensorboard~=2.20.0->tensorflow<2.21,>=2.20->tf-keras) (3.1.3)\n",
      "Requirement already satisfied: wheel<1.0,>=0.23.0 in c:\\users\\ytian\\miniconda3\\envs\\localds2\\lib\\site-packages (from astunparse>=1.6.0->tensorflow<2.21,>=2.20->tf-keras) (0.45.1)\n",
      "Requirement already satisfied: rich in c:\\users\\ytian\\miniconda3\\envs\\localds2\\lib\\site-packages (from keras>=3.10.0->tensorflow<2.21,>=2.20->tf-keras) (14.2.0)\n",
      "Requirement already satisfied: namex in c:\\users\\ytian\\miniconda3\\envs\\localds2\\lib\\site-packages (from keras>=3.10.0->tensorflow<2.21,>=2.20->tf-keras) (0.1.0)\n",
      "Requirement already satisfied: optree in c:\\users\\ytian\\miniconda3\\envs\\localds2\\lib\\site-packages (from keras>=3.10.0->tensorflow<2.21,>=2.20->tf-keras) (0.17.0)\n",
      "Requirement already satisfied: MarkupSafe>=2.1.1 in c:\\users\\ytian\\miniconda3\\envs\\localds2\\lib\\site-packages (from werkzeug>=1.0.1->tensorboard~=2.20.0->tensorflow<2.21,>=2.20->tf-keras) (3.0.3)\n",
      "Requirement already satisfied: markdown-it-py>=2.2.0 in c:\\users\\ytian\\miniconda3\\envs\\localds2\\lib\\site-packages (from rich->keras>=3.10.0->tensorflow<2.21,>=2.20->tf-keras) (4.0.0)\n",
      "Requirement already satisfied: pygments<3.0.0,>=2.13.0 in c:\\users\\ytian\\miniconda3\\envs\\localds2\\lib\\site-packages (from rich->keras>=3.10.0->tensorflow<2.21,>=2.20->tf-keras) (2.19.2)\n",
      "Requirement already satisfied: mdurl~=0.1 in c:\\users\\ytian\\miniconda3\\envs\\localds2\\lib\\site-packages (from markdown-it-py>=2.2.0->rich->keras>=3.10.0->tensorflow<2.21,>=2.20->tf-keras) (0.1.2)\n",
      "Downloading tf_keras-2.20.1-py3-none-any.whl (1.7 MB)\n",
      "   ---------------------------------------- 0.0/1.7 MB ? eta -:--:--\n",
      "   ------------------------ --------------- 1.0/1.7 MB 6.3 MB/s eta 0:00:01\n",
      "   ---------------------------------------- 1.7/1.7 MB 4.6 MB/s  0:00:00\n",
      "Installing collected packages: tf-keras\n",
      "Successfully installed tf-keras-2.20.1\n"
     ]
    }
   ],
   "source": [
    "!pip install -U tf-keras\n"
   ]
  },
  {
   "cell_type": "markdown",
   "id": "7fe34c3c-e613-4b2d-96f8-dd54a4fa67c2",
   "metadata": {},
   "source": [
    "# TEXT Pipeline"
   ]
  },
  {
   "cell_type": "code",
   "execution_count": 6,
   "id": "055c0a13-713e-4fb9-a6c8-569f2a6db01b",
   "metadata": {},
   "outputs": [
    {
     "name": "stderr",
     "output_type": "stream",
     "text": [
      "Xet Storage is enabled for this repo, but the 'hf_xet' package is not installed. Falling back to regular HTTP download. For better performance, install the package with: `pip install huggingface_hub[hf_xet]` or `pip install hf_xet`\n"
     ]
    },
    {
     "data": {
      "application/vnd.jupyter.widget-view+json": {
       "model_id": "23ffcd03d9c44a88ac8b71e6ee4782b2",
       "version_major": 2,
       "version_minor": 0
      },
      "text/plain": [
       "model.safetensors:   0%|          | 0.00/268M [00:00<?, ?B/s]"
      ]
     },
     "metadata": {},
     "output_type": "display_data"
    },
    {
     "data": {
      "application/vnd.jupyter.widget-view+json": {
       "model_id": "d757df9e4dff4ba19c0818e795b6aaae",
       "version_major": 2,
       "version_minor": 0
      },
      "text/plain": [
       "tokenizer_config.json:   0%|          | 0.00/48.0 [00:00<?, ?B/s]"
      ]
     },
     "metadata": {},
     "output_type": "display_data"
    },
    {
     "data": {
      "application/vnd.jupyter.widget-view+json": {
       "model_id": "ba188efb1f7f4332bbd4a521be052a0d",
       "version_major": 2,
       "version_minor": 0
      },
      "text/plain": [
       "vocab.txt:   0%|          | 0.00/232k [00:00<?, ?B/s]"
      ]
     },
     "metadata": {},
     "output_type": "display_data"
    },
    {
     "name": "stderr",
     "output_type": "stream",
     "text": [
      "Device set to use cpu\n"
     ]
    },
    {
     "name": "stdout",
     "output_type": "stream",
     "text": [
      "[{'label': 'POSITIVE', 'score': 0.9997585415840149}, {'label': 'NEGATIVE', 'score': 0.9997983574867249}]\n"
     ]
    }
   ],
   "source": [
    "# quick test Pinpeline\n",
    "#Sentiment analysis\n",
    "clf = pipeline(\n",
    "    \"sentiment-analysis\",\n",
    "    model=\"distilbert-base-uncased-finetuned-sst-2-english\",\n",
    "    framework=\"pt\",   # be explicit\n",
    "    device=DEVICE\n",
    ")\n",
    "\n",
    "texts = [\n",
    "    \"I love how simple Hugging Face makes NLP!\",\n",
    "    \"This is the worst UI I've ever seen.\"\n",
    "]\n",
    "print(clf(texts))\n"
   ]
  },
  {
   "cell_type": "code",
   "execution_count": 9,
   "id": "a833afbe-67b9-4f2e-9011-ef9808af4aa2",
   "metadata": {},
   "outputs": [
    {
     "name": "stdout",
     "output_type": "stream",
     "text": [
      "WARNING:tensorflow:From C:\\Users\\ytian\\miniconda3\\envs\\localds2\\Lib\\site-packages\\tf_keras\\src\\losses.py:2976: The name tf.losses.sparse_softmax_cross_entropy is deprecated. Please use tf.compat.v1.losses.sparse_softmax_cross_entropy instead.\n",
      "\n"
     ]
    },
    {
     "name": "stderr",
     "output_type": "stream",
     "text": [
      "Device set to use cpu\n"
     ]
    },
    {
     "name": "stdout",
     "output_type": "stream",
     "text": [
      "{'sequence': 'We adopted a golden retriever puppy.', 'labels': ['pets', 'sports', 'finance', 'politics'], 'scores': [0.9777827858924866, 0.017328906804323196, 0.0028445266652852297, 0.0020437934435904026]}\n"
     ]
    }
   ],
   "source": [
    "# B. Zero-shot classification (label anything without fine-tuning)\n",
    "\n",
    "zsc = pipeline(\"zero-shot-classification\",\n",
    "               model=\"facebook/bart-large-mnli\",\n",
    "               device=DEVICE)\n",
    "\n",
    "print(zsc(\n",
    "    \"We adopted a golden retriever puppy.\",\n",
    "    candidate_labels=[\"sports\", \"pets\", \"finance\", \"politics\"]\n",
    "))\n"
   ]
  },
  {
   "cell_type": "code",
   "execution_count": 11,
   "id": "8b320940-8b05-4160-b30a-8479eda8e292",
   "metadata": {},
   "outputs": [
    {
     "name": "stdout",
     "output_type": "stream",
     "text": [
      "Collecting hf_xet\n",
      "  Downloading hf_xet-1.2.0-cp37-abi3-win_amd64.whl.metadata (5.0 kB)\n",
      "Downloading hf_xet-1.2.0-cp37-abi3-win_amd64.whl (2.9 MB)\n",
      "   ---------------------------------------- 0.0/2.9 MB ? eta -:--:--\n",
      "   ------- -------------------------------- 0.5/2.9 MB 5.6 MB/s eta 0:00:01\n",
      "   ------------------------- -------------- 1.8/2.9 MB 5.3 MB/s eta 0:00:01\n",
      "   ---------------------------------------- 2.9/2.9 MB 5.6 MB/s  0:00:00\n",
      "Installing collected packages: hf_xet\n",
      "Successfully installed hf_xet-1.2.0\n"
     ]
    }
   ],
   "source": [
    "! pip install hf_xet"
   ]
  },
  {
   "cell_type": "code",
   "execution_count": 10,
   "id": "0c291f89-514f-4d78-85ab-901f96c50267",
   "metadata": {},
   "outputs": [
    {
     "data": {
      "application/vnd.jupyter.widget-view+json": {
       "model_id": "6df2a863f598434393b596373b6aa5b0",
       "version_major": 2,
       "version_minor": 0
      },
      "text/plain": [
       "config.json:   0%|          | 0.00/571 [00:00<?, ?B/s]"
      ]
     },
     "metadata": {},
     "output_type": "display_data"
    },
    {
     "name": "stderr",
     "output_type": "stream",
     "text": [
      "Xet Storage is enabled for this repo, but the 'hf_xet' package is not installed. Falling back to regular HTTP download. For better performance, install the package with: `pip install huggingface_hub[hf_xet]` or `pip install hf_xet`\n"
     ]
    },
    {
     "data": {
      "application/vnd.jupyter.widget-view+json": {
       "model_id": "f7f2f3574fa34841b286b460feb85021",
       "version_major": 2,
       "version_minor": 0
      },
      "text/plain": [
       "model.safetensors:   0%|          | 0.00/496M [00:00<?, ?B/s]"
      ]
     },
     "metadata": {},
     "output_type": "display_data"
    },
    {
     "data": {
      "application/vnd.jupyter.widget-view+json": {
       "model_id": "e32f5e6cf8a9459a8f7d6d8fdcc66801",
       "version_major": 2,
       "version_minor": 0
      },
      "text/plain": [
       "tokenizer_config.json:   0%|          | 0.00/79.0 [00:00<?, ?B/s]"
      ]
     },
     "metadata": {},
     "output_type": "display_data"
    },
    {
     "data": {
      "application/vnd.jupyter.widget-view+json": {
       "model_id": "1f2efea160b54edd95d012e966f830e1",
       "version_major": 2,
       "version_minor": 0
      },
      "text/plain": [
       "vocab.json: 0.00B [00:00, ?B/s]"
      ]
     },
     "metadata": {},
     "output_type": "display_data"
    },
    {
     "data": {
      "application/vnd.jupyter.widget-view+json": {
       "model_id": "17864047255546478c7716961692a029",
       "version_major": 2,
       "version_minor": 0
      },
      "text/plain": [
       "merges.txt: 0.00B [00:00, ?B/s]"
      ]
     },
     "metadata": {},
     "output_type": "display_data"
    },
    {
     "data": {
      "application/vnd.jupyter.widget-view+json": {
       "model_id": "fc4b0a918e8f4d758245b71bc4b2969f",
       "version_major": 2,
       "version_minor": 0
      },
      "text/plain": [
       "special_tokens_map.json:   0%|          | 0.00/772 [00:00<?, ?B/s]"
      ]
     },
     "metadata": {},
     "output_type": "display_data"
    },
    {
     "name": "stderr",
     "output_type": "stream",
     "text": [
      "Device set to use cpu\n"
     ]
    },
    {
     "name": "stdout",
     "output_type": "stream",
     "text": [
      "{'score': 0.9817129373550415, 'start': 89, 'end': 93, 'answer': 'NASA'}\n"
     ]
    },
    {
     "name": "stderr",
     "output_type": "stream",
     "text": [
      "C:\\Users\\ytian\\miniconda3\\envs\\localds2\\Lib\\site-packages\\transformers\\pipelines\\question_answering.py:395: FutureWarning: Passing a list of SQuAD examples to the pipeline is deprecated and will be removed in v5. Inputs should be passed using the `question` and `context` keyword arguments instead.\n",
      "  warnings.warn(\n"
     ]
    }
   ],
   "source": [
    "# C. Question Answering (extractive)\n",
    "qa = pipeline(\"question-answering\",\n",
    "              model=\"deepset/roberta-base-squad2\",\n",
    "              device=DEVICE)\n",
    "\n",
    "context = \"\"\"The Apollo program was the third United States human spaceflight program \n",
    "carried out by NASA, which succeeded in landing the first humans on the Moon from 1969 to 1972.\"\"\"\n",
    "print(qa({\"question\": \"Who ran the Apollo program?\", \"context\": context}))\n"
   ]
  },
  {
   "cell_type": "code",
   "execution_count": 12,
   "id": "8239bfac-3cc8-4d42-b7d2-525c219cb583",
   "metadata": {},
   "outputs": [
    {
     "data": {
      "application/vnd.jupyter.widget-view+json": {
       "model_id": "a1b1288bc000457c8ff1f0c96e75899d",
       "version_major": 2,
       "version_minor": 0
      },
      "text/plain": [
       "config.json:   0%|          | 0.00/762 [00:00<?, ?B/s]"
      ]
     },
     "metadata": {},
     "output_type": "display_data"
    },
    {
     "name": "stderr",
     "output_type": "stream",
     "text": [
      "Xet Storage is enabled for this repo, but the 'hf_xet' package is not installed. Falling back to regular HTTP download. For better performance, install the package with: `pip install huggingface_hub[hf_xet]` or `pip install hf_xet`\n"
     ]
    },
    {
     "data": {
      "application/vnd.jupyter.widget-view+json": {
       "model_id": "d26703e8c02a4560b0747d7d7b561d8c",
       "version_major": 2,
       "version_minor": 0
      },
      "text/plain": [
       "model.safetensors:   0%|          | 0.00/353M [00:00<?, ?B/s]"
      ]
     },
     "metadata": {},
     "output_type": "display_data"
    },
    {
     "data": {
      "application/vnd.jupyter.widget-view+json": {
       "model_id": "1a1a1d2a077c4a29929044e179d90895",
       "version_major": 2,
       "version_minor": 0
      },
      "text/plain": [
       "generation_config.json:   0%|          | 0.00/124 [00:00<?, ?B/s]"
      ]
     },
     "metadata": {},
     "output_type": "display_data"
    },
    {
     "data": {
      "application/vnd.jupyter.widget-view+json": {
       "model_id": "d75c0b3a352945aa8796e7f1fed37fb8",
       "version_major": 2,
       "version_minor": 0
      },
      "text/plain": [
       "tokenizer_config.json:   0%|          | 0.00/26.0 [00:00<?, ?B/s]"
      ]
     },
     "metadata": {},
     "output_type": "display_data"
    },
    {
     "data": {
      "application/vnd.jupyter.widget-view+json": {
       "model_id": "f11b29370a4f4520802c01f733cd5c85",
       "version_major": 2,
       "version_minor": 0
      },
      "text/plain": [
       "vocab.json:   0%|          | 0.00/1.04M [00:00<?, ?B/s]"
      ]
     },
     "metadata": {},
     "output_type": "display_data"
    },
    {
     "data": {
      "application/vnd.jupyter.widget-view+json": {
       "model_id": "5cb7e793c13a45efaaa97ecd995b9f52",
       "version_major": 2,
       "version_minor": 0
      },
      "text/plain": [
       "merges.txt:   0%|          | 0.00/456k [00:00<?, ?B/s]"
      ]
     },
     "metadata": {},
     "output_type": "display_data"
    },
    {
     "data": {
      "application/vnd.jupyter.widget-view+json": {
       "model_id": "ebc6949f6e79499b854aea4c4f1672a7",
       "version_major": 2,
       "version_minor": 0
      },
      "text/plain": [
       "tokenizer.json:   0%|          | 0.00/1.36M [00:00<?, ?B/s]"
      ]
     },
     "metadata": {},
     "output_type": "display_data"
    },
    {
     "name": "stderr",
     "output_type": "stream",
     "text": [
      "Device set to use cpu\n",
      "Setting `pad_token_id` to `eos_token_id`:50256 for open-end generation.\n"
     ]
    },
    {
     "name": "stdout",
     "output_type": "stream",
     "text": [
      "[{'generated_text': 'In the future, artificial intelligence will be able to act as a catalyst for greater economic growth.\\n\\n\\n\\n\\n\\n\\n\\n\\n\\n\\n\\n\\n\\n\\n\\n\\n\\n\\n\\n\\n\\n\\n\\n\\n\\n\\n\\n'}]\n"
     ]
    }
   ],
   "source": [
    "# D. Text generation (causal LM)\n",
    "\n",
    "# Small model for CPU-friendly demos; use 'gpt2' if you prefer\n",
    "gen = pipeline(\"text-generation\",\n",
    "               model=\"distilgpt2\",\n",
    "               device=DEVICE)\n",
    "\n",
    "print(gen(\"In the future, artificial intelligence will\", max_new_tokens=40, do_sample=True))\n"
   ]
  },
  {
   "cell_type": "code",
   "execution_count": 3,
   "id": "3da0cc79-bd1f-43f7-abb4-e2a387d4609f",
   "metadata": {},
   "outputs": [
    {
     "data": {
      "application/vnd.jupyter.widget-view+json": {
       "model_id": "527c5c7d52414720b0840ed379b1839a",
       "version_major": 2,
       "version_minor": 0
      },
      "text/plain": [
       "config.json:   0%|          | 0.00/570 [00:00<?, ?B/s]"
      ]
     },
     "metadata": {},
     "output_type": "display_data"
    },
    {
     "name": "stdout",
     "output_type": "stream",
     "text": [
      "WARNING:tensorflow:From C:\\Users\\ytian\\miniconda3\\envs\\localds2\\Lib\\site-packages\\tf_keras\\src\\losses.py:2976: The name tf.losses.sparse_softmax_cross_entropy is deprecated. Please use tf.compat.v1.losses.sparse_softmax_cross_entropy instead.\n",
      "\n"
     ]
    },
    {
     "data": {
      "application/vnd.jupyter.widget-view+json": {
       "model_id": "d9d94372398449a5b6e1cc850e2ada4c",
       "version_major": 2,
       "version_minor": 0
      },
      "text/plain": [
       "model.safetensors:   0%|          | 0.00/440M [00:00<?, ?B/s]"
      ]
     },
     "metadata": {},
     "output_type": "display_data"
    },
    {
     "name": "stderr",
     "output_type": "stream",
     "text": [
      "Some weights of the model checkpoint at bert-base-uncased were not used when initializing BertForMaskedLM: ['bert.pooler.dense.bias', 'bert.pooler.dense.weight', 'cls.seq_relationship.bias', 'cls.seq_relationship.weight']\n",
      "- This IS expected if you are initializing BertForMaskedLM from the checkpoint of a model trained on another task or with another architecture (e.g. initializing a BertForSequenceClassification model from a BertForPreTraining model).\n",
      "- This IS NOT expected if you are initializing BertForMaskedLM from the checkpoint of a model that you expect to be exactly identical (initializing a BertForSequenceClassification model from a BertForSequenceClassification model).\n"
     ]
    },
    {
     "data": {
      "application/vnd.jupyter.widget-view+json": {
       "model_id": "883f524280034b6c8ea79a52b887b3fe",
       "version_major": 2,
       "version_minor": 0
      },
      "text/plain": [
       "tokenizer_config.json:   0%|          | 0.00/48.0 [00:00<?, ?B/s]"
      ]
     },
     "metadata": {},
     "output_type": "display_data"
    },
    {
     "data": {
      "application/vnd.jupyter.widget-view+json": {
       "model_id": "dfde807bd127434b9256f4b9380c50ac",
       "version_major": 2,
       "version_minor": 0
      },
      "text/plain": [
       "vocab.txt:   0%|          | 0.00/232k [00:00<?, ?B/s]"
      ]
     },
     "metadata": {},
     "output_type": "display_data"
    },
    {
     "data": {
      "application/vnd.jupyter.widget-view+json": {
       "model_id": "b1d7c584d99845c7a6477ac97d8af79c",
       "version_major": 2,
       "version_minor": 0
      },
      "text/plain": [
       "tokenizer.json:   0%|          | 0.00/466k [00:00<?, ?B/s]"
      ]
     },
     "metadata": {},
     "output_type": "display_data"
    },
    {
     "name": "stderr",
     "output_type": "stream",
     "text": [
      "Device set to use cpu\n"
     ]
    },
    {
     "name": "stdout",
     "output_type": "stream",
     "text": [
      "[{'score': 0.04263027012348175, 'token': 4031, 'token_str': 'product', 'sequence': 'hugging face is creating a product that the community loves.'}, {'score': 0.04258760064840317, 'token': 2227, 'token_str': 'face', 'sequence': 'hugging face is creating a face that the community loves.'}, {'score': 0.03617507964372635, 'token': 2839, 'token_str': 'character', 'sequence': 'hugging face is creating a character that the community loves.'}, {'score': 0.02856161817908287, 'token': 2466, 'token_str': 'story', 'sequence': 'hugging face is creating a story that the community loves.'}, {'score': 0.02668689750134945, 'token': 3861, 'token_str': 'picture', 'sequence': 'hugging face is creating a picture that the community loves.'}]\n"
     ]
    }
   ],
   "source": [
    "# Fill-mask (masked LM)\n",
    "mlm = pipeline(\"fill-mask\",\n",
    "               model=\"bert-base-uncased\",\n",
    "               device=DEVICE)\n",
    "\n",
    "print(mlm(\"Hugging Face is creating a [MASK] that the community loves.\", top_k=5))\n"
   ]
  },
  {
   "cell_type": "code",
   "execution_count": null,
   "id": "fd9858e8-2c6a-40b9-b38d-761b30d8bada",
   "metadata": {},
   "outputs": [],
   "source": [
    "# F. Named Entity Recognition (token-classification)\n",
    "ner = pipeline(\"token-classification\",\n",
    "               model=\"dslim/bert-base-NER\",\n",
    "               aggregation_strategy=\"simple\",\n",
    "               device=DEVICE)\n",
    "\n",
    "print(ner(\"Tim Cook is the CEO of Apple, which is based in Cupertino.\"))\n"
   ]
  },
  {
   "cell_type": "code",
   "execution_count": null,
   "id": "cdb6d460-b4d5-41c7-96bc-7d9d100866af",
   "metadata": {},
   "outputs": [],
   "source": [
    "# Summarization\n",
    "\n",
    "summ = pipeline(\"summarization\",\n",
    "                model=\"facebook/bart-large-cnn\",  # try \"sshleifer/distilbart-cnn-12-6\" for lighter\n",
    "                device=DEVICE)\n",
    "\n",
    "article = \"\"\"Hugging Face provides tools that enable rapid experimentation, training,\n",
    "and deployment of state-of-the-art models. The transformers library offers thousands of\n",
    "pretrained models across NLP, vision, and audio tasks, supported by a vibrant community.\"\"\"\n",
    "print(summ(article, max_length=60, min_length=15))\n"
   ]
  },
  {
   "cell_type": "code",
   "execution_count": null,
   "id": "b893b532-195c-4065-a001-6108260de5ae",
   "metadata": {},
   "outputs": [],
   "source": [
    "# Translation \n",
    "trans = pipeline(\"translation\",\n",
    "                 model=\"Helsinki-NLP/opus-mt-en-fr\",\n",
    "                 device=DEVICE)\n",
    "\n",
    "print(trans(\"Hello, world! This notebook shows several Hugging Face pipelines.\"))\n"
   ]
  },
  {
   "cell_type": "code",
   "execution_count": 3,
   "id": "947db83f-39b3-498a-acc0-7fdaf7e279e9",
   "metadata": {},
   "outputs": [
    {
     "name": "stdout",
     "output_type": "stream",
     "text": [
      "WARNING:tensorflow:From C:\\Users\\ytian\\miniconda3\\envs\\localds2\\Lib\\site-packages\\tf_keras\\src\\losses.py:2976: The name tf.losses.sparse_softmax_cross_entropy is deprecated. Please use tf.compat.v1.losses.sparse_softmax_cross_entropy instead.\n",
      "\n"
     ]
    },
    {
     "name": "stderr",
     "output_type": "stream",
     "text": [
      "Device set to use cpu\n",
      "Device set to use cpu\n"
     ]
    }
   ],
   "source": [
    "import os\n",
    "os.environ[\"TRANSFORMERS_NO_TF\"] = \"1\"  # force PyTorch; avoid TF/Keras issues\n",
    "\n",
    "from fastapi import FastAPI\n",
    "from pydantic import BaseModel\n",
    "from transformers import pipeline\n",
    "\n",
    "DEVICE = -1  # CPU\n",
    "app = FastAPI(title=\"HF Pipelines Demo (CPU)\")\n",
    "\n",
    "# Load pipelines once at startup\n",
    "sentiment_pipe = pipeline(\n",
    "    \"sentiment-analysis\",\n",
    "    model=\"distilbert-base-uncased-finetuned-sst-2-english\",\n",
    "    device=DEVICE,\n",
    ")\n",
    "zsc_pipe = pipeline(\n",
    "    \"zero-shot-classification\",\n",
    "    model=\"facebook/bart-large-mnli\",\n",
    "    device=DEVICE,\n",
    ")\n",
    "\n",
    "class SentimentIn(BaseModel):\n",
    "    text: str\n",
    "\n",
    "class ZSCIn(BaseModel):\n",
    "    text: str\n",
    "    labels: list[str]\n",
    "\n",
    "@app.get(\"/healthz\")\n",
    "def healthz():\n",
    "    return {\"status\": \"ok\"}\n",
    "\n",
    "@app.post(\"/predict/sentiment\")\n",
    "def predict_sentiment(inp: SentimentIn):\n",
    "    return sentiment_pipe(inp.text)\n",
    "\n",
    "@app.post(\"/predict/zero-shot\")\n",
    "def predict_zsc(inp: ZSCIn):\n",
    "    return zsc_pipe(inp.text, candidate_labels=inp.labels)\n"
   ]
  },
  {
   "cell_type": "code",
   "execution_count": 11,
   "id": "aec0966a-2d4b-42e3-8f9e-6a06f3693bf4",
   "metadata": {},
   "outputs": [
    {
     "name": "stdout",
     "output_type": "stream",
     "text": [
      "Starting server on http://127.0.0.1:8010 ...\n"
     ]
    },
    {
     "name": "stderr",
     "output_type": "stream",
     "text": [
      "INFO:     Started server process [40928]\n",
      "INFO:     Waiting for application startup.\n",
      "INFO:     Application startup complete.\n",
      "INFO:     Uvicorn running on http://127.0.0.1:8010 (Press CTRL+C to quit)\n"
     ]
    },
    {
     "name": "stdout",
     "output_type": "stream",
     "text": [
      "INFO:     127.0.0.1:58670 - \"GET /healthz HTTP/1.1\" 200 OK\n",
      "Server is ready: {'status': 'ok'}\n",
      "INFO:     127.0.0.1:58675 - \"GET /healthz HTTP/1.1\" 200 OK\n",
      "INFO:     127.0.0.1:58676 - \"POST /predict/sentiment HTTP/1.1\" 200 OK\n",
      "INFO:     127.0.0.1:58677 - \"POST /predict/zero-shot HTTP/1.1\" 200 OK\n"
     ]
    }
   ],
   "source": [
    "import threading, time, requests, uvicorn, nest_asyncio\n",
    "\n",
    "nest_asyncio.apply()\n",
    "\n",
    "PORT = 8010\n",
    "BASE = f\"http://127.0.0.1:{PORT}\"\n",
    "\n",
    "def run_server():\n",
    "    # no reload in notebooks; it spawns extra processes\n",
    "    uvicorn.run(app, host=\"127.0.0.1\", port=PORT, reload=False, log_level=\"info\")\n",
    "\n",
    "# If a previous thread died but the port is busy, just change PORT to another (e.g., 8011)\n",
    "thread = threading.Thread(target=run_server, daemon=True)\n",
    "thread.start()\n",
    "print(f\"Starting server on {BASE} ...\")\n",
    "\n",
    "# Wait until /healthz responds (max ~30s)\n",
    "for i in range(60):\n",
    "    try:\n",
    "        r = requests.get(f\"{BASE}/healthz\", timeout=1)\n",
    "        if r.ok:\n",
    "            print(\"Server is ready:\", r.json())\n",
    "            break\n",
    "    except Exception:\n",
    "        time.sleep(0.5)\n",
    "else:\n",
    "    raise RuntimeError(\"Server did not become ready. Try a different PORT.\")\n"
   ]
  },
  {
   "cell_type": "code",
   "execution_count": 12,
   "id": "d72dcb3a-172a-4a93-8cea-17c971579b1f",
   "metadata": {},
   "outputs": [
    {
     "name": "stdout",
     "output_type": "stream",
     "text": [
      "Health: {'status': 'ok'}\n",
      "Sentiment: [{'label': 'POSITIVE', 'score': 0.9998852014541626}]\n",
      "Zero-shot: {\n",
      "  \"sequence\": \"We adopted a golden retriever puppy.\",\n",
      "  \"labels\": [\n",
      "    \"pets\",\n",
      "    \"sports\",\n",
      "    \"finance\",\n",
      "    \"politics\"\n",
      "  ],\n",
      "  \"scores\": [\n",
      "    0.9777827858924866,\n",
      "    0.017328906804323196,\n",
      "    0.0028445266652852297,\n",
      "    0.0020437934435904026\n",
      "  ]\n",
      "}\n"
     ]
    }
   ],
   "source": [
    "import requests, json\n",
    "\n",
    "BASE = \"http://127.0.0.1:8010\"\n",
    "\n",
    "print(\"Health:\", requests.get(f\"{BASE}/healthz\").json())\n",
    "\n",
    "r1 = requests.post(f\"{BASE}/predict/sentiment\",\n",
    "                   json={\"text\": \"I love this library!\"})\n",
    "print(\"Sentiment:\", r1.json())\n",
    "\n",
    "r2 = requests.post(f\"{BASE}/predict/zero-shot\",\n",
    "                   json={\"text\": \"We adopted a golden retriever puppy.\",\n",
    "                         \"labels\": [\"sports\",\"pets\",\"finance\",\"politics\"]})\n",
    "print(\"Zero-shot:\", json.dumps(r2.json(), indent=2))\n"
   ]
  },
  {
   "cell_type": "code",
   "execution_count": null,
   "id": "c1f23551-69ea-48b7-b7d9-cedb7c1e124a",
   "metadata": {},
   "outputs": [],
   "source": [
    "# Start the API server from the notebook (stop with the interrupt button).\n",
    "# After launching, POST to:\n",
    "#   http://127.0.0.1:8000/predict/sentiment\n",
    "#   http://127.0.0.1:8000/predict/zero-shot\n",
    "# For example with curl:\n",
    "#   curl -X POST localhost:8000/predict/sentiment -H \"Content-Type: application/json\" -d '{\"text\":\"I love this!\"}'\n",
    "#\n",
    "# Note: This will block the cell; run it in a separate terminal if you prefer.\n",
    "# !uvicorn __main__:app --host 127.0.0.1 --port 8000 --reload\n"
   ]
  },
  {
   "cell_type": "code",
   "execution_count": 6,
   "id": "a09c154d-fe46-4e13-a2fa-1a8e4ae0a77d",
   "metadata": {
    "collapsed": true,
    "jupyter": {
     "outputs_hidden": true
    },
    "scrolled": true
   },
   "outputs": [
    {
     "name": "stdout",
     "output_type": "stream",
     "text": [
      "Collecting gradio\n",
      "  Downloading gradio-5.49.1-py3-none-any.whl.metadata (16 kB)\n",
      "Collecting aiofiles<25.0,>=22.0 (from gradio)\n",
      "  Downloading aiofiles-24.1.0-py3-none-any.whl.metadata (10 kB)\n",
      "Requirement already satisfied: anyio<5.0,>=3.0 in c:\\users\\ytian\\miniconda3\\envs\\localds2\\lib\\site-packages (from gradio) (4.11.0)\n",
      "Requirement already satisfied: brotli>=1.1.0 in c:\\users\\ytian\\miniconda3\\envs\\localds2\\lib\\site-packages (from gradio) (1.1.0)\n",
      "Requirement already satisfied: fastapi<1.0,>=0.115.2 in c:\\users\\ytian\\miniconda3\\envs\\localds2\\lib\\site-packages (from gradio) (0.119.0)\n",
      "Collecting ffmpy (from gradio)\n",
      "  Downloading ffmpy-0.6.3-py3-none-any.whl.metadata (2.9 kB)\n",
      "Collecting gradio-client==1.13.3 (from gradio)\n",
      "  Downloading gradio_client-1.13.3-py3-none-any.whl.metadata (7.1 kB)\n",
      "Collecting groovy~=0.1 (from gradio)\n",
      "  Downloading groovy-0.1.2-py3-none-any.whl.metadata (6.1 kB)\n",
      "Requirement already satisfied: httpx<1.0,>=0.24.1 in c:\\users\\ytian\\miniconda3\\envs\\localds2\\lib\\site-packages (from gradio) (0.28.1)\n",
      "Requirement already satisfied: huggingface-hub<2.0,>=0.33.5 in c:\\users\\ytian\\miniconda3\\envs\\localds2\\lib\\site-packages (from gradio) (0.35.3)\n",
      "Requirement already satisfied: jinja2<4.0 in c:\\users\\ytian\\miniconda3\\envs\\localds2\\lib\\site-packages (from gradio) (3.1.6)\n",
      "Requirement already satisfied: markupsafe<4.0,>=2.0 in c:\\users\\ytian\\miniconda3\\envs\\localds2\\lib\\site-packages (from gradio) (3.0.3)\n",
      "Requirement already satisfied: numpy<3.0,>=1.0 in c:\\users\\ytian\\miniconda3\\envs\\localds2\\lib\\site-packages (from gradio) (2.3.3)\n",
      "Collecting orjson~=3.0 (from gradio)\n",
      "  Downloading orjson-3.11.3-cp311-cp311-win_amd64.whl.metadata (43 kB)\n",
      "Requirement already satisfied: packaging in c:\\users\\ytian\\miniconda3\\envs\\localds2\\lib\\site-packages (from gradio) (25.0)\n",
      "Requirement already satisfied: pandas<3.0,>=1.0 in c:\\users\\ytian\\miniconda3\\envs\\localds2\\lib\\site-packages (from gradio) (2.3.3)\n",
      "Requirement already satisfied: pillow<12.0,>=8.0 in c:\\users\\ytian\\miniconda3\\envs\\localds2\\lib\\site-packages (from gradio) (11.3.0)\n",
      "Collecting pydantic<2.12,>=2.0 (from gradio)\n",
      "  Downloading pydantic-2.11.10-py3-none-any.whl.metadata (68 kB)\n",
      "Collecting pydub (from gradio)\n",
      "  Downloading pydub-0.25.1-py2.py3-none-any.whl.metadata (1.4 kB)\n",
      "Collecting python-multipart>=0.0.18 (from gradio)\n",
      "  Downloading python_multipart-0.0.20-py3-none-any.whl.metadata (1.8 kB)\n",
      "Requirement already satisfied: pyyaml<7.0,>=5.0 in c:\\users\\ytian\\miniconda3\\envs\\localds2\\lib\\site-packages (from gradio) (6.0.3)\n",
      "Collecting ruff>=0.9.3 (from gradio)\n",
      "  Downloading ruff-0.14.0-py3-none-win_amd64.whl.metadata (26 kB)\n",
      "Collecting safehttpx<0.2.0,>=0.1.6 (from gradio)\n",
      "  Downloading safehttpx-0.1.6-py3-none-any.whl.metadata (4.2 kB)\n",
      "Collecting semantic-version~=2.0 (from gradio)\n",
      "  Downloading semantic_version-2.10.0-py2.py3-none-any.whl.metadata (9.7 kB)\n",
      "Requirement already satisfied: starlette<1.0,>=0.40.0 in c:\\users\\ytian\\miniconda3\\envs\\localds2\\lib\\site-packages (from gradio) (0.48.0)\n",
      "Collecting tomlkit<0.14.0,>=0.12.0 (from gradio)\n",
      "  Downloading tomlkit-0.13.3-py3-none-any.whl.metadata (2.8 kB)\n",
      "Collecting typer<1.0,>=0.12 (from gradio)\n",
      "  Downloading typer-0.19.2-py3-none-any.whl.metadata (16 kB)\n",
      "Requirement already satisfied: typing-extensions~=4.0 in c:\\users\\ytian\\miniconda3\\envs\\localds2\\lib\\site-packages (from gradio) (4.15.0)\n",
      "Requirement already satisfied: uvicorn>=0.14.0 in c:\\users\\ytian\\miniconda3\\envs\\localds2\\lib\\site-packages (from gradio) (0.37.0)\n",
      "Requirement already satisfied: fsspec in c:\\users\\ytian\\miniconda3\\envs\\localds2\\lib\\site-packages (from gradio-client==1.13.3->gradio) (2025.9.0)\n",
      "Collecting websockets<16.0,>=13.0 (from gradio-client==1.13.3->gradio)\n",
      "  Downloading websockets-15.0.1-cp311-cp311-win_amd64.whl.metadata (7.0 kB)\n",
      "Requirement already satisfied: idna>=2.8 in c:\\users\\ytian\\miniconda3\\envs\\localds2\\lib\\site-packages (from anyio<5.0,>=3.0->gradio) (3.10)\n",
      "Requirement already satisfied: sniffio>=1.1 in c:\\users\\ytian\\miniconda3\\envs\\localds2\\lib\\site-packages (from anyio<5.0,>=3.0->gradio) (1.3.1)\n",
      "Requirement already satisfied: certifi in c:\\users\\ytian\\miniconda3\\envs\\localds2\\lib\\site-packages (from httpx<1.0,>=0.24.1->gradio) (2025.10.5)\n",
      "Requirement already satisfied: httpcore==1.* in c:\\users\\ytian\\miniconda3\\envs\\localds2\\lib\\site-packages (from httpx<1.0,>=0.24.1->gradio) (1.0.9)\n",
      "Requirement already satisfied: h11>=0.16 in c:\\users\\ytian\\miniconda3\\envs\\localds2\\lib\\site-packages (from httpcore==1.*->httpx<1.0,>=0.24.1->gradio) (0.16.0)\n",
      "Requirement already satisfied: filelock in c:\\users\\ytian\\miniconda3\\envs\\localds2\\lib\\site-packages (from huggingface-hub<2.0,>=0.33.5->gradio) (3.20.0)\n",
      "Requirement already satisfied: requests in c:\\users\\ytian\\miniconda3\\envs\\localds2\\lib\\site-packages (from huggingface-hub<2.0,>=0.33.5->gradio) (2.32.5)\n",
      "Requirement already satisfied: tqdm>=4.42.1 in c:\\users\\ytian\\miniconda3\\envs\\localds2\\lib\\site-packages (from huggingface-hub<2.0,>=0.33.5->gradio) (4.67.1)\n",
      "Requirement already satisfied: python-dateutil>=2.8.2 in c:\\users\\ytian\\miniconda3\\envs\\localds2\\lib\\site-packages (from pandas<3.0,>=1.0->gradio) (2.9.0.post0)\n",
      "Requirement already satisfied: pytz>=2020.1 in c:\\users\\ytian\\miniconda3\\envs\\localds2\\lib\\site-packages (from pandas<3.0,>=1.0->gradio) (2025.2)\n",
      "Requirement already satisfied: tzdata>=2022.7 in c:\\users\\ytian\\miniconda3\\envs\\localds2\\lib\\site-packages (from pandas<3.0,>=1.0->gradio) (2025.2)\n",
      "Requirement already satisfied: annotated-types>=0.6.0 in c:\\users\\ytian\\miniconda3\\envs\\localds2\\lib\\site-packages (from pydantic<2.12,>=2.0->gradio) (0.7.0)\n",
      "Collecting pydantic-core==2.33.2 (from pydantic<2.12,>=2.0->gradio)\n",
      "  Downloading pydantic_core-2.33.2-cp311-cp311-win_amd64.whl.metadata (6.9 kB)\n",
      "Requirement already satisfied: typing-inspection>=0.4.0 in c:\\users\\ytian\\miniconda3\\envs\\localds2\\lib\\site-packages (from pydantic<2.12,>=2.0->gradio) (0.4.2)\n",
      "Requirement already satisfied: click>=8.0.0 in c:\\users\\ytian\\miniconda3\\envs\\localds2\\lib\\site-packages (from typer<1.0,>=0.12->gradio) (8.3.0)\n",
      "Collecting shellingham>=1.3.0 (from typer<1.0,>=0.12->gradio)\n",
      "  Downloading shellingham-1.5.4-py2.py3-none-any.whl.metadata (3.5 kB)\n",
      "Collecting rich>=10.11.0 (from typer<1.0,>=0.12->gradio)\n",
      "  Downloading rich-14.2.0-py3-none-any.whl.metadata (18 kB)\n",
      "Requirement already satisfied: colorama in c:\\users\\ytian\\miniconda3\\envs\\localds2\\lib\\site-packages (from click>=8.0.0->typer<1.0,>=0.12->gradio) (0.4.6)\n",
      "Requirement already satisfied: six>=1.5 in c:\\users\\ytian\\miniconda3\\envs\\localds2\\lib\\site-packages (from python-dateutil>=2.8.2->pandas<3.0,>=1.0->gradio) (1.17.0)\n",
      "Collecting markdown-it-py>=2.2.0 (from rich>=10.11.0->typer<1.0,>=0.12->gradio)\n",
      "  Downloading markdown_it_py-4.0.0-py3-none-any.whl.metadata (7.3 kB)\n",
      "Requirement already satisfied: pygments<3.0.0,>=2.13.0 in c:\\users\\ytian\\miniconda3\\envs\\localds2\\lib\\site-packages (from rich>=10.11.0->typer<1.0,>=0.12->gradio) (2.19.2)\n",
      "Collecting mdurl~=0.1 (from markdown-it-py>=2.2.0->rich>=10.11.0->typer<1.0,>=0.12->gradio)\n",
      "  Downloading mdurl-0.1.2-py3-none-any.whl.metadata (1.6 kB)\n",
      "Requirement already satisfied: charset_normalizer<4,>=2 in c:\\users\\ytian\\miniconda3\\envs\\localds2\\lib\\site-packages (from requests->huggingface-hub<2.0,>=0.33.5->gradio) (3.4.3)\n",
      "Requirement already satisfied: urllib3<3,>=1.21.1 in c:\\users\\ytian\\miniconda3\\envs\\localds2\\lib\\site-packages (from requests->huggingface-hub<2.0,>=0.33.5->gradio) (2.5.0)\n",
      "Downloading gradio-5.49.1-py3-none-any.whl (63.5 MB)\n",
      "   ---------------------------------------- 0.0/63.5 MB ? eta -:--:--\n",
      "   ---------------------------------------- 0.5/63.5 MB 4.2 MB/s eta 0:00:16\n",
      "   - -------------------------------------- 1.8/63.5 MB 4.6 MB/s eta 0:00:14\n",
      "   -- ------------------------------------- 3.7/63.5 MB 6.1 MB/s eta 0:00:10\n",
      "   --- ------------------------------------ 5.0/63.5 MB 6.2 MB/s eta 0:00:10\n",
      "   --- ------------------------------------ 5.0/63.5 MB 6.2 MB/s eta 0:00:10\n",
      "   --- ------------------------------------ 5.0/63.5 MB 6.2 MB/s eta 0:00:10\n",
      "   --- ------------------------------------ 5.8/63.5 MB 3.9 MB/s eta 0:00:15\n",
      "   ----- ---------------------------------- 9.4/63.5 MB 6.0 MB/s eta 0:00:10\n",
      "   ------ --------------------------------- 11.0/63.5 MB 6.0 MB/s eta 0:00:09\n",
      "   -------- ------------------------------- 12.8/63.5 MB 6.1 MB/s eta 0:00:09\n",
      "   --------- ------------------------------ 14.7/63.5 MB 6.3 MB/s eta 0:00:08\n",
      "   ---------- ----------------------------- 16.3/63.5 MB 6.4 MB/s eta 0:00:08\n",
      "   ----------- ---------------------------- 17.8/63.5 MB 6.6 MB/s eta 0:00:07\n",
      "   ------------ --------------------------- 19.1/63.5 MB 6.6 MB/s eta 0:00:07\n",
      "   ------------ --------------------------- 20.2/63.5 MB 6.4 MB/s eta 0:00:07\n",
      "   -------------- ------------------------- 22.3/63.5 MB 6.6 MB/s eta 0:00:07\n",
      "   --------------- ------------------------ 23.9/63.5 MB 6.7 MB/s eta 0:00:06\n",
      "   --------------- ------------------------ 25.2/63.5 MB 6.7 MB/s eta 0:00:06\n",
      "   ---------------- ----------------------- 26.5/63.5 MB 6.6 MB/s eta 0:00:06\n",
      "   ----------------- ---------------------- 27.8/63.5 MB 6.6 MB/s eta 0:00:06\n",
      "   ------------------ --------------------- 29.4/63.5 MB 6.6 MB/s eta 0:00:06\n",
      "   ------------------- -------------------- 30.4/63.5 MB 6.6 MB/s eta 0:00:06\n",
      "   ------------------- -------------------- 31.7/63.5 MB 6.6 MB/s eta 0:00:05\n",
      "   --------------------- ------------------ 33.6/63.5 MB 6.6 MB/s eta 0:00:05\n",
      "   ---------------------- ----------------- 35.1/63.5 MB 6.7 MB/s eta 0:00:05\n",
      "   ---------------------- ----------------- 35.9/63.5 MB 6.6 MB/s eta 0:00:05\n",
      "   ----------------------- ---------------- 38.0/63.5 MB 6.7 MB/s eta 0:00:04\n",
      "   ------------------------ --------------- 39.3/63.5 MB 6.7 MB/s eta 0:00:04\n",
      "   ------------------------- -------------- 40.9/63.5 MB 6.7 MB/s eta 0:00:04\n",
      "   -------------------------- ------------- 42.7/63.5 MB 6.8 MB/s eta 0:00:04\n",
      "   ---------------------------- ----------- 44.8/63.5 MB 6.9 MB/s eta 0:00:03\n",
      "   ----------------------------- ---------- 46.7/63.5 MB 6.9 MB/s eta 0:00:03\n",
      "   ------------------------------ --------- 48.5/63.5 MB 7.0 MB/s eta 0:00:03\n",
      "   ------------------------------- -------- 50.6/63.5 MB 7.0 MB/s eta 0:00:02\n",
      "   --------------------------------- ------ 52.4/63.5 MB 7.1 MB/s eta 0:00:02\n",
      "   ---------------------------------- ----- 54.3/63.5 MB 7.2 MB/s eta 0:00:02\n",
      "   ----------------------------------- ---- 56.1/63.5 MB 7.2 MB/s eta 0:00:02\n",
      "   ------------------------------------ --- 57.9/63.5 MB 7.3 MB/s eta 0:00:01\n",
      "   ------------------------------------- -- 60.0/63.5 MB 7.3 MB/s eta 0:00:01\n",
      "   -------------------------------------- - 61.6/63.5 MB 7.3 MB/s eta 0:00:01\n",
      "   ---------------------------------------  63.4/63.5 MB 7.4 MB/s eta 0:00:01\n",
      "   ---------------------------------------  63.4/63.5 MB 7.4 MB/s eta 0:00:01\n",
      "   ---------------------------------------- 63.5/63.5 MB 7.1 MB/s  0:00:08\n",
      "Downloading gradio_client-1.13.3-py3-none-any.whl (325 kB)\n",
      "Downloading aiofiles-24.1.0-py3-none-any.whl (15 kB)\n",
      "Downloading groovy-0.1.2-py3-none-any.whl (14 kB)\n",
      "Downloading orjson-3.11.3-cp311-cp311-win_amd64.whl (131 kB)\n",
      "Downloading pydantic-2.11.10-py3-none-any.whl (444 kB)\n",
      "Downloading pydantic_core-2.33.2-cp311-cp311-win_amd64.whl (2.0 MB)\n",
      "   ---------------------------------------- 0.0/2.0 MB ? eta -:--:--\n",
      "   -------------------------------- ------- 1.6/2.0 MB 8.4 MB/s eta 0:00:01\n",
      "   ---------------------------------------- 2.0/2.0 MB 7.2 MB/s  0:00:00\n",
      "Downloading safehttpx-0.1.6-py3-none-any.whl (8.7 kB)\n",
      "Downloading semantic_version-2.10.0-py2.py3-none-any.whl (15 kB)\n",
      "Downloading tomlkit-0.13.3-py3-none-any.whl (38 kB)\n",
      "Downloading typer-0.19.2-py3-none-any.whl (46 kB)\n",
      "Downloading websockets-15.0.1-cp311-cp311-win_amd64.whl (176 kB)\n",
      "Downloading python_multipart-0.0.20-py3-none-any.whl (24 kB)\n",
      "Downloading rich-14.2.0-py3-none-any.whl (243 kB)\n",
      "Downloading markdown_it_py-4.0.0-py3-none-any.whl (87 kB)\n",
      "Downloading mdurl-0.1.2-py3-none-any.whl (10.0 kB)\n",
      "Downloading ruff-0.14.0-py3-none-win_amd64.whl (13.5 MB)\n",
      "   ---------------------------------------- 0.0/13.5 MB ? eta -:--:--\n",
      "   ----- ---------------------------------- 1.8/13.5 MB 8.4 MB/s eta 0:00:02\n",
      "   ---------- ----------------------------- 3.4/13.5 MB 8.1 MB/s eta 0:00:02\n",
      "   --------------- ------------------------ 5.2/13.5 MB 8.2 MB/s eta 0:00:02\n",
      "   -------------------- ------------------- 6.8/13.5 MB 7.9 MB/s eta 0:00:01\n",
      "   ------------------------ --------------- 8.4/13.5 MB 7.8 MB/s eta 0:00:01\n",
      "   ----------------------------- ---------- 10.0/13.5 MB 7.8 MB/s eta 0:00:01\n",
      "   ----------------------------------- ---- 11.8/13.5 MB 7.9 MB/s eta 0:00:01\n",
      "   ---------------------------------------  13.4/13.5 MB 7.9 MB/s eta 0:00:01\n",
      "   ---------------------------------------- 13.5/13.5 MB 7.3 MB/s  0:00:01\n",
      "Downloading shellingham-1.5.4-py2.py3-none-any.whl (9.8 kB)\n",
      "Downloading ffmpy-0.6.3-py3-none-any.whl (5.5 kB)\n",
      "Downloading pydub-0.25.1-py2.py3-none-any.whl (32 kB)\n",
      "Installing collected packages: pydub, websockets, tomlkit, shellingham, semantic-version, ruff, python-multipart, pydantic-core, orjson, mdurl, groovy, ffmpy, aiofiles, pydantic, markdown-it-py, safehttpx, rich, gradio-client, typer, gradio\n",
      "\n",
      "   -- -------------------------------------  1/20 [websockets]\n",
      "   -- -------------------------------------  1/20 [websockets]\n",
      "   ---- -----------------------------------  2/20 [tomlkit]\n",
      "   ---------- -----------------------------  5/20 [ruff]\n",
      "   ---------- -----------------------------  5/20 [ruff]\n",
      "  Attempting uninstall: pydantic-core\n",
      "   ---------- -----------------------------  5/20 [ruff]\n",
      "    Found existing installation: pydantic_core 2.41.1\n",
      "   ---------- -----------------------------  5/20 [ruff]\n",
      "    Uninstalling pydantic_core-2.41.1:\n",
      "   ---------- -----------------------------  5/20 [ruff]\n",
      "      Successfully uninstalled pydantic_core-2.41.1\n",
      "   ---------- -----------------------------  5/20 [ruff]\n",
      "   -------------- -------------------------  7/20 [pydantic-core]\n",
      "   -------------- -------------------------  7/20 [pydantic-core]\n",
      "   -------------- -------------------------  7/20 [pydantic-core]\n",
      "   -------------- -------------------------  7/20 [pydantic-core]\n",
      "   -------------- -------------------------  7/20 [pydantic-core]\n",
      "   -------------- -------------------------  7/20 [pydantic-core]\n",
      "   -------------- -------------------------  7/20 [pydantic-core]\n",
      "   -------------- -------------------------  7/20 [pydantic-core]\n",
      "   -------------- -------------------------  7/20 [pydantic-core]\n",
      "   -------------- -------------------------  7/20 [pydantic-core]\n",
      "   -------------- -------------------------  7/20 [pydantic-core]\n",
      "   -------------- -------------------------  7/20 [pydantic-core]\n",
      "   -------------- -------------------------  7/20 [pydantic-core]\n",
      "   -------------- -------------------------  7/20 [pydantic-core]\n",
      "   -------------- -------------------------  7/20 [pydantic-core]\n",
      "   -------------- -------------------------  7/20 [pydantic-core]\n",
      "   -------------- -------------------------  7/20 [pydantic-core]\n",
      "   -------------- -------------------------  7/20 [pydantic-core]\n",
      "   -------------------- ------------------- 10/20 [groovy]\n",
      "  Attempting uninstall: pydantic\n",
      "   -------------------- ------------------- 10/20 [groovy]\n",
      "    Found existing installation: pydantic 2.12.0\n",
      "   -------------------- ------------------- 10/20 [groovy]\n",
      "    Uninstalling pydantic-2.12.0:\n",
      "   -------------------- ------------------- 10/20 [groovy]\n",
      "   -------------------------- ------------- 13/20 [pydantic]\n",
      "      Successfully uninstalled pydantic-2.12.0\n",
      "   -------------------------- ------------- 13/20 [pydantic]\n",
      "   -------------------------- ------------- 13/20 [pydantic]\n",
      "   -------------------------- ------------- 13/20 [pydantic]\n",
      "   -------------------------- ------------- 13/20 [pydantic]\n",
      "   -------------------------- ------------- 13/20 [pydantic]\n",
      "   ---------------------------- ----------- 14/20 [markdown-it-py]\n",
      "   ---------------------------- ----------- 14/20 [markdown-it-py]\n",
      "   ------------------------------ --------- 15/20 [safehttpx]\n",
      "   -------------------------------- ------- 16/20 [rich]\n",
      "   -------------------------------- ------- 16/20 [rich]\n",
      "   -------------------------------- ------- 16/20 [rich]\n",
      "   ---------------------------------- ----- 17/20 [gradio-client]\n",
      "   -------------------------------------- - 19/20 [gradio]\n",
      "   -------------------------------------- - 19/20 [gradio]\n",
      "   -------------------------------------- - 19/20 [gradio]\n",
      "   -------------------------------------- - 19/20 [gradio]\n",
      "   -------------------------------------- - 19/20 [gradio]\n",
      "   -------------------------------------- - 19/20 [gradio]\n",
      "   -------------------------------------- - 19/20 [gradio]\n",
      "   -------------------------------------- - 19/20 [gradio]\n",
      "   -------------------------------------- - 19/20 [gradio]\n",
      "   -------------------------------------- - 19/20 [gradio]\n",
      "   -------------------------------------- - 19/20 [gradio]\n",
      "   -------------------------------------- - 19/20 [gradio]\n",
      "   -------------------------------------- - 19/20 [gradio]\n",
      "   -------------------------------------- - 19/20 [gradio]\n",
      "   -------------------------------------- - 19/20 [gradio]\n",
      "   -------------------------------------- - 19/20 [gradio]\n",
      "   -------------------------------------- - 19/20 [gradio]\n",
      "   -------------------------------------- - 19/20 [gradio]\n",
      "   -------------------------------------- - 19/20 [gradio]\n",
      "   -------------------------------------- - 19/20 [gradio]\n",
      "   -------------------------------------- - 19/20 [gradio]\n",
      "   -------------------------------------- - 19/20 [gradio]\n",
      "   -------------------------------------- - 19/20 [gradio]\n",
      "   -------------------------------------- - 19/20 [gradio]\n",
      "   -------------------------------------- - 19/20 [gradio]\n",
      "   -------------------------------------- - 19/20 [gradio]\n",
      "   -------------------------------------- - 19/20 [gradio]\n",
      "   -------------------------------------- - 19/20 [gradio]\n",
      "   -------------------------------------- - 19/20 [gradio]\n",
      "   -------------------------------------- - 19/20 [gradio]\n",
      "   -------------------------------------- - 19/20 [gradio]\n",
      "   -------------------------------------- - 19/20 [gradio]\n",
      "   -------------------------------------- - 19/20 [gradio]\n",
      "   -------------------------------------- - 19/20 [gradio]\n",
      "   -------------------------------------- - 19/20 [gradio]\n",
      "   -------------------------------------- - 19/20 [gradio]\n",
      "   -------------------------------------- - 19/20 [gradio]\n",
      "   -------------------------------------- - 19/20 [gradio]\n",
      "   -------------------------------------- - 19/20 [gradio]\n",
      "   -------------------------------------- - 19/20 [gradio]\n",
      "   ---------------------------------------- 20/20 [gradio]\n",
      "\n",
      "Successfully installed aiofiles-24.1.0 ffmpy-0.6.3 gradio-5.49.1 gradio-client-1.13.3 groovy-0.1.2 markdown-it-py-4.0.0 mdurl-0.1.2 orjson-3.11.3 pydantic-2.11.10 pydantic-core-2.33.2 pydub-0.25.1 python-multipart-0.0.20 rich-14.2.0 ruff-0.14.0 safehttpx-0.1.6 semantic-version-2.10.0 shellingham-1.5.4 tomlkit-0.13.3 typer-0.19.2 websockets-15.0.1\n",
      "Note: you may need to restart the kernel to use updated packages.\n"
     ]
    },
    {
     "name": "stderr",
     "output_type": "stream",
     "text": [
      "  WARNING: Failed to remove contents in a temporary directory 'C:\\Users\\ytian\\miniconda3\\envs\\localds2\\Lib\\site-packages\\~ydantic_core'.\n",
      "  You can safely remove it manually.\n"
     ]
    }
   ],
   "source": [
    "%pip install gradio\n"
   ]
  },
  {
   "cell_type": "code",
   "execution_count": 7,
   "id": "4c1124d6-36ef-45c7-a57d-1da2c0f333a6",
   "metadata": {
    "collapsed": true,
    "jupyter": {
     "outputs_hidden": true,
     "source_hidden": true
    }
   },
   "outputs": [
    {
     "name": "stderr",
     "output_type": "stream",
     "text": [
      "C:\\Users\\ytian\\miniconda3\\envs\\localds2\\Lib\\site-packages\\pydantic\\_internal\\_generate_schema.py:800: RuntimeWarning: coroutine 'Server.serve' was never awaited\n",
      "  ),\n",
      "RuntimeWarning: Enable tracemalloc to get the object allocation traceback\n",
      "C:\\Users\\ytian\\miniconda3\\envs\\localds2\\Lib\\site-packages\\pydantic\\_internal\\_generate_schema.py:800: RuntimeWarning: coroutine 'BaseEventLoop.shutdown_asyncgens' was never awaited\n",
      "  ),\n",
      "RuntimeWarning: Enable tracemalloc to get the object allocation traceback\n",
      "Device set to use cpu\n"
     ]
    },
    {
     "name": "stdout",
     "output_type": "stream",
     "text": [
      "* Running on local URL:  http://127.0.0.1:7860\n",
      "* To create a public link, set `share=True` in `launch()`.\n"
     ]
    },
    {
     "data": {
      "text/html": [
       "<div><iframe src=\"http://127.0.0.1:7860/\" width=\"100%\" height=\"500\" allow=\"autoplay; camera; microphone; clipboard-read; clipboard-write;\" frameborder=\"0\" allowfullscreen></iframe></div>"
      ],
      "text/plain": [
       "<IPython.core.display.HTML object>"
      ]
     },
     "metadata": {},
     "output_type": "display_data"
    },
    {
     "data": {
      "text/plain": []
     },
     "execution_count": 7,
     "metadata": {},
     "output_type": "execute_result"
    }
   ],
   "source": [
    "import gradio as gr\n",
    "from transformers import pipeline\n",
    "\n",
    "classifier = pipeline(\"zero-shot-classification\", model=\"facebook/bart-large-mnli\")\n",
    "\n",
    "def classify(text):\n",
    "    return classifier(text, candidate_labels=[\"animals\", \"humans\", \"landscape\"])\n",
    "\n",
    "gr.Interface(fn=classify, inputs=\"text\", outputs=\"json\").launch()\n"
   ]
  },
  {
   "cell_type": "code",
   "execution_count": null,
   "id": "edf32d1e-5259-4c81-8846-72a6dbee42cd",
   "metadata": {},
   "outputs": [],
   "source": []
  },
  {
   "cell_type": "code",
   "execution_count": 6,
   "id": "5f6f9f64-fffe-47d9-96cc-fdae88a4c791",
   "metadata": {
    "collapsed": true,
    "jupyter": {
     "outputs_hidden": true
    }
   },
   "outputs": [
    {
     "name": "stdout",
     "output_type": "stream",
     "text": [
      "Collecting fastapi\n",
      "  Downloading fastapi-0.119.0-py3-none-any.whl.metadata (28 kB)\n",
      "Collecting uvicorn\n",
      "  Downloading uvicorn-0.37.0-py3-none-any.whl.metadata (6.6 kB)\n",
      "Requirement already satisfied: transformers in c:\\users\\ytian\\miniconda3\\envs\\localds2\\lib\\site-packages (4.57.1)\n",
      "Requirement already satisfied: torch in c:\\users\\ytian\\miniconda3\\envs\\localds2\\lib\\site-packages (2.8.0)\n",
      "Collecting starlette<0.49.0,>=0.40.0 (from fastapi)\n",
      "  Downloading starlette-0.48.0-py3-none-any.whl.metadata (6.3 kB)\n",
      "Requirement already satisfied: pydantic!=1.8,!=1.8.1,!=2.0.0,!=2.0.1,!=2.1.0,<3.0.0,>=1.7.4 in c:\\users\\ytian\\miniconda3\\envs\\localds2\\lib\\site-packages (from fastapi) (2.12.0)\n",
      "Requirement already satisfied: typing-extensions>=4.8.0 in c:\\users\\ytian\\miniconda3\\envs\\localds2\\lib\\site-packages (from fastapi) (4.15.0)\n",
      "Requirement already satisfied: annotated-types>=0.6.0 in c:\\users\\ytian\\miniconda3\\envs\\localds2\\lib\\site-packages (from pydantic!=1.8,!=1.8.1,!=2.0.0,!=2.0.1,!=2.1.0,<3.0.0,>=1.7.4->fastapi) (0.7.0)\n",
      "Requirement already satisfied: pydantic-core==2.41.1 in c:\\users\\ytian\\miniconda3\\envs\\localds2\\lib\\site-packages (from pydantic!=1.8,!=1.8.1,!=2.0.0,!=2.0.1,!=2.1.0,<3.0.0,>=1.7.4->fastapi) (2.41.1)\n",
      "Requirement already satisfied: typing-inspection>=0.4.2 in c:\\users\\ytian\\miniconda3\\envs\\localds2\\lib\\site-packages (from pydantic!=1.8,!=1.8.1,!=2.0.0,!=2.0.1,!=2.1.0,<3.0.0,>=1.7.4->fastapi) (0.4.2)\n",
      "Requirement already satisfied: anyio<5,>=3.6.2 in c:\\users\\ytian\\miniconda3\\envs\\localds2\\lib\\site-packages (from starlette<0.49.0,>=0.40.0->fastapi) (4.11.0)\n",
      "Requirement already satisfied: idna>=2.8 in c:\\users\\ytian\\miniconda3\\envs\\localds2\\lib\\site-packages (from anyio<5,>=3.6.2->starlette<0.49.0,>=0.40.0->fastapi) (3.10)\n",
      "Requirement already satisfied: sniffio>=1.1 in c:\\users\\ytian\\miniconda3\\envs\\localds2\\lib\\site-packages (from anyio<5,>=3.6.2->starlette<0.49.0,>=0.40.0->fastapi) (1.3.1)\n",
      "Requirement already satisfied: click>=7.0 in c:\\users\\ytian\\miniconda3\\envs\\localds2\\lib\\site-packages (from uvicorn) (8.3.0)\n",
      "Requirement already satisfied: h11>=0.8 in c:\\users\\ytian\\miniconda3\\envs\\localds2\\lib\\site-packages (from uvicorn) (0.16.0)\n",
      "Requirement already satisfied: filelock in c:\\users\\ytian\\miniconda3\\envs\\localds2\\lib\\site-packages (from transformers) (3.20.0)\n",
      "Requirement already satisfied: huggingface-hub<1.0,>=0.34.0 in c:\\users\\ytian\\miniconda3\\envs\\localds2\\lib\\site-packages (from transformers) (0.35.3)\n",
      "Requirement already satisfied: numpy>=1.17 in c:\\users\\ytian\\miniconda3\\envs\\localds2\\lib\\site-packages (from transformers) (2.3.3)\n",
      "Requirement already satisfied: packaging>=20.0 in c:\\users\\ytian\\miniconda3\\envs\\localds2\\lib\\site-packages (from transformers) (25.0)\n",
      "Requirement already satisfied: pyyaml>=5.1 in c:\\users\\ytian\\miniconda3\\envs\\localds2\\lib\\site-packages (from transformers) (6.0.3)\n",
      "Requirement already satisfied: regex!=2019.12.17 in c:\\users\\ytian\\miniconda3\\envs\\localds2\\lib\\site-packages (from transformers) (2025.9.18)\n",
      "Requirement already satisfied: requests in c:\\users\\ytian\\miniconda3\\envs\\localds2\\lib\\site-packages (from transformers) (2.32.5)\n",
      "Requirement already satisfied: tokenizers<=0.23.0,>=0.22.0 in c:\\users\\ytian\\miniconda3\\envs\\localds2\\lib\\site-packages (from transformers) (0.22.1)\n",
      "Requirement already satisfied: safetensors>=0.4.3 in c:\\users\\ytian\\miniconda3\\envs\\localds2\\lib\\site-packages (from transformers) (0.6.2)\n",
      "Requirement already satisfied: tqdm>=4.27 in c:\\users\\ytian\\miniconda3\\envs\\localds2\\lib\\site-packages (from transformers) (4.67.1)\n",
      "Requirement already satisfied: fsspec>=2023.5.0 in c:\\users\\ytian\\miniconda3\\envs\\localds2\\lib\\site-packages (from huggingface-hub<1.0,>=0.34.0->transformers) (2025.9.0)\n",
      "Requirement already satisfied: sympy>=1.13.3 in c:\\users\\ytian\\miniconda3\\envs\\localds2\\lib\\site-packages (from torch) (1.14.0)\n",
      "Requirement already satisfied: networkx in c:\\users\\ytian\\miniconda3\\envs\\localds2\\lib\\site-packages (from torch) (3.5)\n",
      "Requirement already satisfied: jinja2 in c:\\users\\ytian\\miniconda3\\envs\\localds2\\lib\\site-packages (from torch) (3.1.6)\n",
      "Requirement already satisfied: colorama in c:\\users\\ytian\\miniconda3\\envs\\localds2\\lib\\site-packages (from click>=7.0->uvicorn) (0.4.6)\n",
      "Requirement already satisfied: mpmath<1.4,>=1.1.0 in c:\\users\\ytian\\miniconda3\\envs\\localds2\\lib\\site-packages (from sympy>=1.13.3->torch) (1.3.0)\n",
      "Requirement already satisfied: MarkupSafe>=2.0 in c:\\users\\ytian\\miniconda3\\envs\\localds2\\lib\\site-packages (from jinja2->torch) (3.0.3)\n",
      "Requirement already satisfied: charset_normalizer<4,>=2 in c:\\users\\ytian\\miniconda3\\envs\\localds2\\lib\\site-packages (from requests->transformers) (3.4.3)\n",
      "Requirement already satisfied: urllib3<3,>=1.21.1 in c:\\users\\ytian\\miniconda3\\envs\\localds2\\lib\\site-packages (from requests->transformers) (2.5.0)\n",
      "Requirement already satisfied: certifi>=2017.4.17 in c:\\users\\ytian\\miniconda3\\envs\\localds2\\lib\\site-packages (from requests->transformers) (2025.10.5)\n",
      "Downloading fastapi-0.119.0-py3-none-any.whl (107 kB)\n",
      "Downloading starlette-0.48.0-py3-none-any.whl (73 kB)\n",
      "Downloading uvicorn-0.37.0-py3-none-any.whl (67 kB)\n",
      "Installing collected packages: uvicorn, starlette, fastapi\n",
      "\n",
      "   ---------------------------------------- 0/3 [uvicorn]\n",
      "   ------------- -------------------------- 1/3 [starlette]\n",
      "   -------------------------- ------------- 2/3 [fastapi]\n",
      "   -------------------------- ------------- 2/3 [fastapi]\n",
      "   ---------------------------------------- 3/3 [fastapi]\n",
      "\n",
      "Successfully installed fastapi-0.119.0 starlette-0.48.0 uvicorn-0.37.0\n",
      "Note: you may need to restart the kernel to use updated packages.\n"
     ]
    }
   ],
   "source": [
    "%pip install fastapi uvicorn transformers torch\n"
   ]
  },
  {
   "cell_type": "markdown",
   "id": "843d9beb-d20e-4ffd-a620-d350795f26e8",
   "metadata": {},
   "source": [
    "# TensorFlow deployment in ADS\n",
    "\n",
    "import ads\n",
    "import logging\n",
    "import os\n",
    "import pandas as pd\n",
    "import tempfile\n",
    "import tensorflow as tf\n",
    "import tensorflow_dataset as tfds\n",
    "import warnings\n",
    "\n",
    "form ads.catalog.model import ModelCatalog\n",
    "from ads.model.model_metadata import UseCaseType\n",
    "\n",
    "from ads.dataset.factory import DatasetFactory\n",
    "from ads.model.framework.tensorflow_model import TensorFlowModel\n",
    "from shutil import rmtree\n",
    "ads.set_auth(auth=\"reource_principal')\n",
    "\n",
    "logging.basicConfig(formmat='%[levelname)s:%(message)s', level=logging.ERROR)\n",
    "             warning.filterwarnings('ignore')\n",
    "\n",
    "\n",
    "             "
   ]
  },
  {
   "cell_type": "code",
   "execution_count": 12,
   "id": "3429a0d4-845b-4393-b377-90bfefc6a759",
   "metadata": {
    "collapsed": true,
    "jupyter": {
     "outputs_hidden": true
    }
   },
   "outputs": [
    {
     "name": "stdout",
     "output_type": "stream",
     "text": [
      "Collecting tensorflow\n",
      "  Downloading tensorflow-2.20.0-cp311-cp311-win_amd64.whl.metadata (4.6 kB)\n",
      "Collecting absl-py>=1.0.0 (from tensorflow)\n",
      "  Downloading absl_py-2.3.1-py3-none-any.whl.metadata (3.3 kB)\n",
      "Collecting astunparse>=1.6.0 (from tensorflow)\n",
      "  Downloading astunparse-1.6.3-py2.py3-none-any.whl.metadata (4.4 kB)\n",
      "Collecting flatbuffers>=24.3.25 (from tensorflow)\n",
      "  Downloading flatbuffers-25.9.23-py2.py3-none-any.whl.metadata (875 bytes)\n",
      "Collecting gast!=0.5.0,!=0.5.1,!=0.5.2,>=0.2.1 (from tensorflow)\n",
      "  Downloading gast-0.6.0-py3-none-any.whl.metadata (1.3 kB)\n",
      "Collecting google_pasta>=0.1.1 (from tensorflow)\n",
      "  Downloading google_pasta-0.2.0-py3-none-any.whl.metadata (814 bytes)\n",
      "Collecting libclang>=13.0.0 (from tensorflow)\n",
      "  Downloading libclang-18.1.1-py2.py3-none-win_amd64.whl.metadata (5.3 kB)\n",
      "Collecting opt_einsum>=2.3.2 (from tensorflow)\n",
      "  Downloading opt_einsum-3.4.0-py3-none-any.whl.metadata (6.3 kB)\n",
      "Requirement already satisfied: packaging in c:\\users\\ytian\\miniconda3\\envs\\localds2\\lib\\site-packages (from tensorflow) (25.0)\n",
      "Collecting protobuf>=5.28.0 (from tensorflow)\n",
      "  Downloading protobuf-6.32.1-cp310-abi3-win_amd64.whl.metadata (593 bytes)\n",
      "Requirement already satisfied: requests<3,>=2.21.0 in c:\\users\\ytian\\miniconda3\\envs\\localds2\\lib\\site-packages (from tensorflow) (2.32.5)\n",
      "Requirement already satisfied: setuptools in c:\\users\\ytian\\miniconda3\\envs\\localds2\\lib\\site-packages (from tensorflow) (80.9.0)\n",
      "Requirement already satisfied: six>=1.12.0 in c:\\users\\ytian\\miniconda3\\envs\\localds2\\lib\\site-packages (from tensorflow) (1.17.0)\n",
      "Collecting termcolor>=1.1.0 (from tensorflow)\n",
      "  Downloading termcolor-3.1.0-py3-none-any.whl.metadata (6.4 kB)\n",
      "Requirement already satisfied: typing_extensions>=3.6.6 in c:\\users\\ytian\\miniconda3\\envs\\localds2\\lib\\site-packages (from tensorflow) (4.15.0)\n",
      "Collecting wrapt>=1.11.0 (from tensorflow)\n",
      "  Downloading wrapt-1.17.3-cp311-cp311-win_amd64.whl.metadata (6.5 kB)\n",
      "Collecting grpcio<2.0,>=1.24.3 (from tensorflow)\n",
      "  Downloading grpcio-1.75.1-cp311-cp311-win_amd64.whl.metadata (3.8 kB)\n",
      "Collecting tensorboard~=2.20.0 (from tensorflow)\n",
      "  Downloading tensorboard-2.20.0-py3-none-any.whl.metadata (1.8 kB)\n",
      "Collecting keras>=3.10.0 (from tensorflow)\n",
      "  Downloading keras-3.11.3-py3-none-any.whl.metadata (5.9 kB)\n",
      "Requirement already satisfied: numpy>=1.26.0 in c:\\users\\ytian\\miniconda3\\envs\\localds2\\lib\\site-packages (from tensorflow) (2.3.3)\n",
      "Collecting h5py>=3.11.0 (from tensorflow)\n",
      "  Downloading h5py-3.15.0-cp311-cp311-win_amd64.whl.metadata (3.1 kB)\n",
      "Collecting ml_dtypes<1.0.0,>=0.5.1 (from tensorflow)\n",
      "  Downloading ml_dtypes-0.5.3-cp311-cp311-win_amd64.whl.metadata (9.2 kB)\n",
      "Requirement already satisfied: charset_normalizer<4,>=2 in c:\\users\\ytian\\miniconda3\\envs\\localds2\\lib\\site-packages (from requests<3,>=2.21.0->tensorflow) (3.4.3)\n",
      "Requirement already satisfied: idna<4,>=2.5 in c:\\users\\ytian\\miniconda3\\envs\\localds2\\lib\\site-packages (from requests<3,>=2.21.0->tensorflow) (3.10)\n",
      "Requirement already satisfied: urllib3<3,>=1.21.1 in c:\\users\\ytian\\miniconda3\\envs\\localds2\\lib\\site-packages (from requests<3,>=2.21.0->tensorflow) (2.5.0)\n",
      "Requirement already satisfied: certifi>=2017.4.17 in c:\\users\\ytian\\miniconda3\\envs\\localds2\\lib\\site-packages (from requests<3,>=2.21.0->tensorflow) (2025.10.5)\n",
      "Requirement already satisfied: markdown>=2.6.8 in c:\\users\\ytian\\miniconda3\\envs\\localds2\\lib\\site-packages (from tensorboard~=2.20.0->tensorflow) (3.9)\n",
      "Requirement already satisfied: pillow in c:\\users\\ytian\\miniconda3\\envs\\localds2\\lib\\site-packages (from tensorboard~=2.20.0->tensorflow) (11.3.0)\n",
      "Collecting tensorboard-data-server<0.8.0,>=0.7.0 (from tensorboard~=2.20.0->tensorflow)\n",
      "  Downloading tensorboard_data_server-0.7.2-py3-none-any.whl.metadata (1.1 kB)\n",
      "Collecting werkzeug>=1.0.1 (from tensorboard~=2.20.0->tensorflow)\n",
      "  Downloading werkzeug-3.1.3-py3-none-any.whl.metadata (3.7 kB)\n",
      "Requirement already satisfied: wheel<1.0,>=0.23.0 in c:\\users\\ytian\\miniconda3\\envs\\localds2\\lib\\site-packages (from astunparse>=1.6.0->tensorflow) (0.45.1)\n",
      "Requirement already satisfied: rich in c:\\users\\ytian\\miniconda3\\envs\\localds2\\lib\\site-packages (from keras>=3.10.0->tensorflow) (14.2.0)\n",
      "Collecting namex (from keras>=3.10.0->tensorflow)\n",
      "  Downloading namex-0.1.0-py3-none-any.whl.metadata (322 bytes)\n",
      "Collecting optree (from keras>=3.10.0->tensorflow)\n",
      "  Downloading optree-0.17.0-cp311-cp311-win_amd64.whl.metadata (34 kB)\n",
      "Requirement already satisfied: MarkupSafe>=2.1.1 in c:\\users\\ytian\\miniconda3\\envs\\localds2\\lib\\site-packages (from werkzeug>=1.0.1->tensorboard~=2.20.0->tensorflow) (3.0.3)\n",
      "Requirement already satisfied: markdown-it-py>=2.2.0 in c:\\users\\ytian\\miniconda3\\envs\\localds2\\lib\\site-packages (from rich->keras>=3.10.0->tensorflow) (4.0.0)\n",
      "Requirement already satisfied: pygments<3.0.0,>=2.13.0 in c:\\users\\ytian\\miniconda3\\envs\\localds2\\lib\\site-packages (from rich->keras>=3.10.0->tensorflow) (2.19.2)\n",
      "Requirement already satisfied: mdurl~=0.1 in c:\\users\\ytian\\miniconda3\\envs\\localds2\\lib\\site-packages (from markdown-it-py>=2.2.0->rich->keras>=3.10.0->tensorflow) (0.1.2)\n",
      "Downloading tensorflow-2.20.0-cp311-cp311-win_amd64.whl (331.8 MB)\n",
      "   ---------------------------------------- 0.0/331.8 MB ? eta -:--:--\n",
      "   ---------------------------------------- 1.0/331.8 MB 6.3 MB/s eta 0:00:53\n",
      "   ---------------------------------------- 2.9/331.8 MB 7.3 MB/s eta 0:00:46\n",
      "    --------------------------------------- 4.2/331.8 MB 7.6 MB/s eta 0:00:43\n",
      "    --------------------------------------- 4.2/331.8 MB 7.6 MB/s eta 0:00:43\n",
      "    --------------------------------------- 6.6/331.8 MB 6.4 MB/s eta 0:00:51\n",
      "   - -------------------------------------- 8.4/331.8 MB 6.9 MB/s eta 0:00:47\n",
      "   - -------------------------------------- 11.8/331.8 MB 8.2 MB/s eta 0:00:40\n",
      "   - -------------------------------------- 13.6/331.8 MB 8.3 MB/s eta 0:00:39\n",
      "   - -------------------------------------- 15.5/331.8 MB 8.4 MB/s eta 0:00:38\n",
      "   -- ------------------------------------- 17.3/331.8 MB 8.4 MB/s eta 0:00:38\n",
      "   -- ------------------------------------- 19.4/331.8 MB 8.6 MB/s eta 0:00:37\n",
      "   -- ------------------------------------- 21.2/331.8 MB 8.5 MB/s eta 0:00:37\n",
      "   -- ------------------------------------- 23.3/331.8 MB 8.6 MB/s eta 0:00:36\n",
      "   --- ------------------------------------ 25.2/331.8 MB 8.6 MB/s eta 0:00:36\n",
      "   --- ------------------------------------ 27.0/331.8 MB 8.6 MB/s eta 0:00:36\n",
      "   --- ------------------------------------ 28.8/331.8 MB 8.7 MB/s eta 0:00:35\n",
      "   --- ------------------------------------ 30.7/331.8 MB 8.6 MB/s eta 0:00:35\n",
      "   --- ------------------------------------ 32.5/331.8 MB 8.7 MB/s eta 0:00:35\n",
      "   ---- ----------------------------------- 34.6/331.8 MB 8.7 MB/s eta 0:00:35\n",
      "   ---- ----------------------------------- 36.4/331.8 MB 8.7 MB/s eta 0:00:35\n",
      "   ---- ----------------------------------- 38.0/331.8 MB 8.7 MB/s eta 0:00:34\n",
      "   ---- ----------------------------------- 38.5/331.8 MB 8.6 MB/s eta 0:00:35\n",
      "   ---- ----------------------------------- 41.2/331.8 MB 8.5 MB/s eta 0:00:35\n",
      "   ----- ---------------------------------- 42.7/331.8 MB 8.5 MB/s eta 0:00:35\n",
      "   ----- ---------------------------------- 44.3/331.8 MB 8.5 MB/s eta 0:00:34\n",
      "   ----- ---------------------------------- 46.4/331.8 MB 8.5 MB/s eta 0:00:34\n",
      "   ----- ---------------------------------- 48.0/331.8 MB 8.5 MB/s eta 0:00:34\n",
      "   ------ --------------------------------- 50.1/331.8 MB 8.5 MB/s eta 0:00:34\n",
      "   ------ --------------------------------- 51.6/331.8 MB 8.5 MB/s eta 0:00:33\n",
      "   ------ --------------------------------- 53.7/331.8 MB 8.5 MB/s eta 0:00:33\n",
      "   ------ --------------------------------- 55.6/331.8 MB 8.5 MB/s eta 0:00:33\n",
      "   ------ --------------------------------- 57.4/331.8 MB 8.6 MB/s eta 0:00:33\n",
      "   ------- -------------------------------- 59.5/331.8 MB 8.6 MB/s eta 0:00:32\n",
      "   ------- -------------------------------- 61.3/331.8 MB 8.6 MB/s eta 0:00:32\n",
      "   ------- -------------------------------- 62.9/331.8 MB 8.5 MB/s eta 0:00:32\n",
      "   ------- -------------------------------- 64.7/331.8 MB 8.6 MB/s eta 0:00:32\n",
      "   -------- ------------------------------- 66.8/331.8 MB 8.6 MB/s eta 0:00:31\n",
      "   -------- ------------------------------- 68.7/331.8 MB 8.6 MB/s eta 0:00:31\n",
      "   -------- ------------------------------- 70.5/331.8 MB 8.6 MB/s eta 0:00:31\n",
      "   -------- ------------------------------- 72.4/331.8 MB 8.6 MB/s eta 0:00:31\n",
      "   -------- ------------------------------- 74.4/331.8 MB 8.6 MB/s eta 0:00:30\n",
      "   --------- ------------------------------ 76.0/331.8 MB 8.6 MB/s eta 0:00:30\n",
      "   --------- ------------------------------ 77.9/331.8 MB 8.6 MB/s eta 0:00:30\n",
      "   --------- ------------------------------ 80.0/331.8 MB 8.6 MB/s eta 0:00:30\n",
      "   --------- ------------------------------ 81.3/331.8 MB 8.6 MB/s eta 0:00:30\n",
      "   ---------- ----------------------------- 83.6/331.8 MB 8.6 MB/s eta 0:00:29\n",
      "   ---------- ----------------------------- 85.2/331.8 MB 8.6 MB/s eta 0:00:29\n",
      "   ---------- ----------------------------- 87.0/331.8 MB 8.6 MB/s eta 0:00:29\n",
      "   ---------- ----------------------------- 88.3/331.8 MB 8.6 MB/s eta 0:00:29\n",
      "   ---------- ----------------------------- 90.4/331.8 MB 8.6 MB/s eta 0:00:29\n",
      "   ----------- ---------------------------- 92.5/331.8 MB 8.6 MB/s eta 0:00:28\n",
      "   ----------- ---------------------------- 94.1/331.8 MB 8.6 MB/s eta 0:00:28\n",
      "   ----------- ---------------------------- 96.2/331.8 MB 8.6 MB/s eta 0:00:28\n",
      "   ----------- ---------------------------- 97.8/331.8 MB 8.6 MB/s eta 0:00:28\n",
      "   ------------ --------------------------- 99.6/331.8 MB 8.6 MB/s eta 0:00:28\n",
      "   ------------ --------------------------- 101.4/331.8 MB 8.6 MB/s eta 0:00:27\n",
      "   ------------ --------------------------- 103.8/331.8 MB 8.6 MB/s eta 0:00:27\n",
      "   ------------ --------------------------- 105.1/331.8 MB 8.6 MB/s eta 0:00:27\n",
      "   ------------ --------------------------- 107.2/331.8 MB 8.6 MB/s eta 0:00:27\n",
      "   ------------- -------------------------- 109.1/331.8 MB 8.6 MB/s eta 0:00:26\n",
      "   ------------- -------------------------- 110.9/331.8 MB 8.6 MB/s eta 0:00:26\n",
      "   ------------- -------------------------- 112.7/331.8 MB 8.6 MB/s eta 0:00:26\n",
      "   ------------- -------------------------- 114.6/331.8 MB 8.6 MB/s eta 0:00:26\n",
      "   ------------- -------------------------- 116.1/331.8 MB 8.6 MB/s eta 0:00:26\n",
      "   -------------- ------------------------- 118.0/331.8 MB 8.6 MB/s eta 0:00:25\n",
      "   -------------- ------------------------- 120.3/331.8 MB 8.6 MB/s eta 0:00:25\n",
      "   -------------- ------------------------- 122.2/331.8 MB 8.6 MB/s eta 0:00:25\n",
      "   -------------- ------------------------- 124.3/331.8 MB 8.6 MB/s eta 0:00:25\n",
      "   --------------- ------------------------ 125.8/331.8 MB 8.6 MB/s eta 0:00:24\n",
      "   --------------- ------------------------ 127.7/331.8 MB 8.6 MB/s eta 0:00:24\n",
      "   --------------- ------------------------ 129.2/331.8 MB 8.6 MB/s eta 0:00:24\n",
      "   --------------- ------------------------ 131.1/331.8 MB 8.6 MB/s eta 0:00:24\n",
      "   ---------------- ----------------------- 132.9/331.8 MB 8.6 MB/s eta 0:00:24\n",
      "   ---------------- ----------------------- 134.7/331.8 MB 8.6 MB/s eta 0:00:23\n",
      "   ---------------- ----------------------- 136.6/331.8 MB 8.6 MB/s eta 0:00:23\n",
      "   ---------------- ----------------------- 138.4/331.8 MB 8.6 MB/s eta 0:00:23\n",
      "   ---------------- ----------------------- 140.5/331.8 MB 8.6 MB/s eta 0:00:23\n",
      "   ----------------- ---------------------- 142.3/331.8 MB 8.6 MB/s eta 0:00:23\n",
      "   ----------------- ---------------------- 144.2/331.8 MB 8.6 MB/s eta 0:00:22\n",
      "   ----------------- ---------------------- 146.0/331.8 MB 8.6 MB/s eta 0:00:22\n",
      "   ----------------- ---------------------- 147.8/331.8 MB 8.6 MB/s eta 0:00:22\n",
      "   ------------------ --------------------- 149.9/331.8 MB 8.6 MB/s eta 0:00:22\n",
      "   ------------------ --------------------- 151.8/331.8 MB 8.6 MB/s eta 0:00:21\n",
      "   ------------------ --------------------- 153.9/331.8 MB 8.6 MB/s eta 0:00:21\n",
      "   ------------------ --------------------- 155.5/331.8 MB 8.6 MB/s eta 0:00:21\n",
      "   ------------------ --------------------- 157.5/331.8 MB 8.6 MB/s eta 0:00:21\n",
      "   ------------------- -------------------- 159.4/331.8 MB 8.6 MB/s eta 0:00:20\n",
      "   ------------------- -------------------- 161.5/331.8 MB 8.6 MB/s eta 0:00:20\n",
      "   ------------------- -------------------- 163.1/331.8 MB 8.6 MB/s eta 0:00:20\n",
      "   ------------------- -------------------- 164.9/331.8 MB 8.6 MB/s eta 0:00:20\n",
      "   -------------------- ------------------- 166.7/331.8 MB 8.6 MB/s eta 0:00:20\n",
      "   -------------------- ------------------- 168.6/331.8 MB 8.6 MB/s eta 0:00:19\n",
      "   -------------------- ------------------- 170.7/331.8 MB 8.6 MB/s eta 0:00:19\n",
      "   -------------------- ------------------- 172.5/331.8 MB 8.6 MB/s eta 0:00:19\n",
      "   -------------------- ------------------- 174.1/331.8 MB 8.6 MB/s eta 0:00:19\n",
      "   --------------------- ------------------ 175.9/331.8 MB 8.6 MB/s eta 0:00:19\n",
      "   --------------------- ------------------ 177.5/331.8 MB 8.6 MB/s eta 0:00:18\n",
      "   --------------------- ------------------ 179.6/331.8 MB 8.6 MB/s eta 0:00:18\n",
      "   --------------------- ------------------ 181.1/331.8 MB 8.6 MB/s eta 0:00:18\n",
      "   ---------------------- ----------------- 183.2/331.8 MB 8.6 MB/s eta 0:00:18\n",
      "   ---------------------- ----------------- 185.3/331.8 MB 8.6 MB/s eta 0:00:17\n",
      "   ---------------------- ----------------- 186.1/331.8 MB 8.6 MB/s eta 0:00:17\n",
      "   ---------------------- ----------------- 188.2/331.8 MB 8.6 MB/s eta 0:00:17\n",
      "   ---------------------- ----------------- 190.1/331.8 MB 8.6 MB/s eta 0:00:17\n",
      "   ----------------------- ---------------- 191.9/331.8 MB 8.6 MB/s eta 0:00:17\n",
      "   ----------------------- ---------------- 193.7/331.8 MB 8.6 MB/s eta 0:00:17\n",
      "   ----------------------- ---------------- 195.6/331.8 MB 8.6 MB/s eta 0:00:16\n",
      "   ----------------------- ---------------- 197.7/331.8 MB 8.6 MB/s eta 0:00:16\n",
      "   ------------------------ --------------- 199.8/331.8 MB 8.6 MB/s eta 0:00:16\n",
      "   ------------------------ --------------- 201.3/331.8 MB 8.6 MB/s eta 0:00:16\n",
      "   ------------------------ --------------- 203.7/331.8 MB 8.6 MB/s eta 0:00:15\n",
      "   ------------------------ --------------- 205.5/331.8 MB 8.6 MB/s eta 0:00:15\n",
      "   ------------------------ --------------- 207.1/331.8 MB 8.6 MB/s eta 0:00:15\n",
      "   ------------------------- -------------- 208.7/331.8 MB 8.6 MB/s eta 0:00:15\n",
      "   ------------------------- -------------- 211.0/331.8 MB 8.6 MB/s eta 0:00:15\n",
      "   ------------------------- -------------- 212.6/331.8 MB 8.6 MB/s eta 0:00:14\n",
      "   ------------------------- -------------- 214.2/331.8 MB 8.6 MB/s eta 0:00:14\n",
      "   -------------------------- ------------- 215.7/331.8 MB 8.6 MB/s eta 0:00:14\n",
      "   -------------------------- ------------- 217.1/331.8 MB 8.6 MB/s eta 0:00:14\n",
      "   -------------------------- ------------- 218.6/331.8 MB 8.5 MB/s eta 0:00:14\n",
      "   -------------------------- ------------- 220.7/331.8 MB 8.6 MB/s eta 0:00:13\n",
      "   -------------------------- ------------- 222.3/331.8 MB 8.6 MB/s eta 0:00:13\n",
      "   --------------------------- ------------ 224.4/331.8 MB 8.6 MB/s eta 0:00:13\n",
      "   --------------------------- ------------ 226.2/331.8 MB 8.6 MB/s eta 0:00:13\n",
      "   --------------------------- ------------ 227.8/331.8 MB 8.5 MB/s eta 0:00:13\n",
      "   --------------------------- ------------ 229.9/331.8 MB 8.5 MB/s eta 0:00:12\n",
      "   --------------------------- ------------ 232.0/331.8 MB 8.6 MB/s eta 0:00:12\n",
      "   ---------------------------- ----------- 233.6/331.8 MB 8.6 MB/s eta 0:00:12\n",
      "   ---------------------------- ----------- 235.9/331.8 MB 8.6 MB/s eta 0:00:12\n",
      "   ---------------------------- ----------- 237.5/331.8 MB 8.6 MB/s eta 0:00:12\n",
      "   ---------------------------- ----------- 239.6/331.8 MB 8.6 MB/s eta 0:00:11\n",
      "   ----------------------------- ---------- 241.2/331.8 MB 8.6 MB/s eta 0:00:11\n",
      "   ----------------------------- ---------- 243.3/331.8 MB 8.6 MB/s eta 0:00:11\n",
      "   ----------------------------- ---------- 245.1/331.8 MB 8.6 MB/s eta 0:00:11\n",
      "   ----------------------------- ---------- 246.7/331.8 MB 8.6 MB/s eta 0:00:10\n",
      "   ----------------------------- ---------- 248.5/331.8 MB 8.6 MB/s eta 0:00:10\n",
      "   ------------------------------ --------- 250.6/331.8 MB 8.6 MB/s eta 0:00:10\n",
      "   ------------------------------ --------- 252.2/331.8 MB 8.6 MB/s eta 0:00:10\n",
      "   ------------------------------ --------- 254.3/331.8 MB 8.6 MB/s eta 0:00:10\n",
      "   ------------------------------ --------- 256.1/331.8 MB 8.6 MB/s eta 0:00:09\n",
      "   ------------------------------- -------- 257.9/331.8 MB 8.6 MB/s eta 0:00:09\n",
      "   ------------------------------- -------- 259.8/331.8 MB 8.6 MB/s eta 0:00:09\n",
      "   ------------------------------- -------- 261.6/331.8 MB 8.6 MB/s eta 0:00:09\n",
      "   ------------------------------- -------- 263.5/331.8 MB 8.7 MB/s eta 0:00:08\n",
      "   ------------------------------- -------- 265.3/331.8 MB 8.7 MB/s eta 0:00:08\n",
      "   -------------------------------- ------- 267.1/331.8 MB 8.6 MB/s eta 0:00:08\n",
      "   -------------------------------- ------- 269.2/331.8 MB 8.6 MB/s eta 0:00:08\n",
      "   -------------------------------- ------- 271.1/331.8 MB 8.6 MB/s eta 0:00:08\n",
      "   -------------------------------- ------- 272.9/331.8 MB 8.6 MB/s eta 0:00:07\n",
      "   --------------------------------- ------ 274.5/331.8 MB 8.6 MB/s eta 0:00:07\n",
      "   --------------------------------- ------ 276.3/331.8 MB 8.6 MB/s eta 0:00:07\n",
      "   --------------------------------- ------ 278.4/331.8 MB 8.6 MB/s eta 0:00:07\n",
      "   --------------------------------- ------ 280.2/331.8 MB 8.6 MB/s eta 0:00:07\n",
      "   --------------------------------- ------ 282.1/331.8 MB 8.6 MB/s eta 0:00:06\n",
      "   ---------------------------------- ----- 283.9/331.8 MB 8.6 MB/s eta 0:00:06\n",
      "   ---------------------------------- ----- 286.0/331.8 MB 8.6 MB/s eta 0:00:06\n",
      "   ---------------------------------- ----- 287.8/331.8 MB 8.6 MB/s eta 0:00:06\n",
      "   ---------------------------------- ----- 289.7/331.8 MB 8.6 MB/s eta 0:00:05\n",
      "   ----------------------------------- ---- 291.5/331.8 MB 8.6 MB/s eta 0:00:05\n",
      "   ----------------------------------- ---- 292.6/331.8 MB 8.6 MB/s eta 0:00:05\n",
      "   ----------------------------------- ---- 294.6/331.8 MB 8.6 MB/s eta 0:00:05\n",
      "   ----------------------------------- ---- 296.5/331.8 MB 8.6 MB/s eta 0:00:05\n",
      "   ----------------------------------- ---- 298.3/331.8 MB 8.6 MB/s eta 0:00:04\n",
      "   ------------------------------------ --- 299.9/331.8 MB 8.6 MB/s eta 0:00:04\n",
      "   ------------------------------------ --- 301.7/331.8 MB 8.6 MB/s eta 0:00:04\n",
      "   ------------------------------------ --- 303.6/331.8 MB 8.6 MB/s eta 0:00:04\n",
      "   ------------------------------------ --- 305.4/331.8 MB 8.6 MB/s eta 0:00:04\n",
      "   ------------------------------------- -- 307.5/331.8 MB 8.6 MB/s eta 0:00:03\n",
      "   ------------------------------------- -- 309.3/331.8 MB 8.6 MB/s eta 0:00:03\n",
      "   ------------------------------------- -- 311.2/331.8 MB 8.6 MB/s eta 0:00:03\n",
      "   ------------------------------------- -- 313.0/331.8 MB 8.6 MB/s eta 0:00:03\n",
      "   ------------------------------------- -- 315.1/331.8 MB 8.6 MB/s eta 0:00:02\n",
      "   -------------------------------------- - 316.9/331.8 MB 8.6 MB/s eta 0:00:02\n",
      "   -------------------------------------- - 319.0/331.8 MB 8.6 MB/s eta 0:00:02\n",
      "   -------------------------------------- - 320.9/331.8 MB 8.6 MB/s eta 0:00:02\n",
      "   -------------------------------------- - 322.4/331.8 MB 8.6 MB/s eta 0:00:02\n",
      "   ---------------------------------------  324.3/331.8 MB 8.6 MB/s eta 0:00:01\n",
      "   ---------------------------------------  326.1/331.8 MB 8.6 MB/s eta 0:00:01\n",
      "   ---------------------------------------  328.2/331.8 MB 8.6 MB/s eta 0:00:01\n",
      "   ---------------------------------------  330.0/331.8 MB 8.6 MB/s eta 0:00:01\n",
      "   ---------------------------------------  331.6/331.8 MB 8.6 MB/s eta 0:00:01\n",
      "   ---------------------------------------  331.6/331.8 MB 8.6 MB/s eta 0:00:01\n",
      "   ---------------------------------------  331.6/331.8 MB 8.6 MB/s eta 0:00:01\n",
      "   ---------------------------------------  331.6/331.8 MB 8.6 MB/s eta 0:00:01\n",
      "   ---------------------------------------  331.6/331.8 MB 8.6 MB/s eta 0:00:01\n",
      "   ---------------------------------------  331.6/331.8 MB 8.6 MB/s eta 0:00:01\n",
      "   ---------------------------------------  331.6/331.8 MB 8.6 MB/s eta 0:00:01\n",
      "   ---------------------------------------- 331.8/331.8 MB 8.2 MB/s  0:00:40\n",
      "Downloading grpcio-1.75.1-cp311-cp311-win_amd64.whl (4.6 MB)\n",
      "   ---------------------------------------- 0.0/4.6 MB ? eta -:--:--\n",
      "   --------- ------------------------------ 1.0/4.6 MB 7.2 MB/s eta 0:00:01\n",
      "   ------------------------ --------------- 2.9/4.6 MB 8.0 MB/s eta 0:00:01\n",
      "   ---------------------------------------- 4.6/4.6 MB 8.0 MB/s  0:00:00\n",
      "Downloading ml_dtypes-0.5.3-cp311-cp311-win_amd64.whl (206 kB)\n",
      "Downloading tensorboard-2.20.0-py3-none-any.whl (5.5 MB)\n",
      "   ---------------------------------------- 0.0/5.5 MB ? eta -:--:--\n",
      "   --------------- ------------------------ 2.1/5.5 MB 9.0 MB/s eta 0:00:01\n",
      "   ---------------------------- ----------- 3.9/5.5 MB 9.0 MB/s eta 0:00:01\n",
      "   ---------------------------------------- 5.5/5.5 MB 8.4 MB/s  0:00:00\n",
      "Downloading tensorboard_data_server-0.7.2-py3-none-any.whl (2.4 kB)\n",
      "Downloading absl_py-2.3.1-py3-none-any.whl (135 kB)\n",
      "Downloading astunparse-1.6.3-py2.py3-none-any.whl (12 kB)\n",
      "Downloading flatbuffers-25.9.23-py2.py3-none-any.whl (30 kB)\n",
      "Downloading gast-0.6.0-py3-none-any.whl (21 kB)\n",
      "Downloading google_pasta-0.2.0-py3-none-any.whl (57 kB)\n",
      "Downloading h5py-3.15.0-cp311-cp311-win_amd64.whl (2.9 MB)\n",
      "   ---------------------------------------- 0.0/2.9 MB ? eta -:--:--\n",
      "   ------------------------- -------------- 1.8/2.9 MB 10.0 MB/s eta 0:00:01\n",
      "   ---------------------------------------- 2.9/2.9 MB 8.0 MB/s  0:00:00\n",
      "Downloading keras-3.11.3-py3-none-any.whl (1.4 MB)\n",
      "   ---------------------------------------- 0.0/1.4 MB ? eta -:--:--\n",
      "   ---------------------------------------- 1.4/1.4 MB 7.3 MB/s  0:00:00\n",
      "Downloading libclang-18.1.1-py2.py3-none-win_amd64.whl (26.4 MB)\n",
      "   ---------------------------------------- 0.0/26.4 MB ? eta -:--:--\n",
      "   -- ------------------------------------- 1.6/26.4 MB 7.6 MB/s eta 0:00:04\n",
      "   ----- ---------------------------------- 3.4/26.4 MB 8.4 MB/s eta 0:00:03\n",
      "   ------- -------------------------------- 5.0/26.4 MB 7.9 MB/s eta 0:00:03\n",
      "   ---------- ----------------------------- 6.8/26.4 MB 8.4 MB/s eta 0:00:03\n",
      "   ------------- -------------------------- 8.9/26.4 MB 8.5 MB/s eta 0:00:03\n",
      "   ---------------- ----------------------- 11.0/26.4 MB 8.7 MB/s eta 0:00:02\n",
      "   ------------------- -------------------- 13.1/26.4 MB 8.7 MB/s eta 0:00:02\n",
      "   ---------------------- ----------------- 14.7/26.4 MB 8.6 MB/s eta 0:00:02\n",
      "   ------------------------- -------------- 16.5/26.4 MB 8.7 MB/s eta 0:00:02\n",
      "   ---------------------------- ----------- 18.6/26.4 MB 8.7 MB/s eta 0:00:01\n",
      "   ------------------------------ --------- 20.2/26.4 MB 8.7 MB/s eta 0:00:01\n",
      "   --------------------------------- ------ 22.0/26.4 MB 8.5 MB/s eta 0:00:01\n",
      "   ------------------------------------ --- 23.9/26.4 MB 8.6 MB/s eta 0:00:01\n",
      "   -------------------------------------- - 25.7/26.4 MB 8.6 MB/s eta 0:00:01\n",
      "   ---------------------------------------- 26.4/26.4 MB 8.2 MB/s  0:00:03\n",
      "Downloading opt_einsum-3.4.0-py3-none-any.whl (71 kB)\n",
      "Downloading protobuf-6.32.1-cp310-abi3-win_amd64.whl (435 kB)\n",
      "Downloading termcolor-3.1.0-py3-none-any.whl (7.7 kB)\n",
      "Downloading werkzeug-3.1.3-py3-none-any.whl (224 kB)\n",
      "Downloading wrapt-1.17.3-cp311-cp311-win_amd64.whl (38 kB)\n",
      "Downloading namex-0.1.0-py3-none-any.whl (5.9 kB)\n",
      "Downloading optree-0.17.0-cp311-cp311-win_amd64.whl (313 kB)\n",
      "Installing collected packages: namex, libclang, flatbuffers, wrapt, werkzeug, termcolor, tensorboard-data-server, protobuf, optree, opt_einsum, ml_dtypes, h5py, grpcio, google_pasta, gast, astunparse, absl-py, tensorboard, keras, tensorflow\n",
      "\n",
      "   -- -------------------------------------  1/20 [libclang]\n",
      "   -- -------------------------------------  1/20 [libclang]\n",
      "   -- -------------------------------------  1/20 [libclang]\n",
      "   ------ ---------------------------------  3/20 [wrapt]\n",
      "   -------- -------------------------------  4/20 [werkzeug]\n",
      "   -------- -------------------------------  4/20 [werkzeug]\n",
      "   -------------- -------------------------  7/20 [protobuf]\n",
      "   -------------- -------------------------  7/20 [protobuf]\n",
      "   -------------- -------------------------  7/20 [protobuf]\n",
      "   ---------------- -----------------------  8/20 [optree]\n",
      "   ------------------ ---------------------  9/20 [opt_einsum]\n",
      "   ---------------------- ----------------- 11/20 [h5py]\n",
      "   ---------------------- ----------------- 11/20 [h5py]\n",
      "   ---------------------- ----------------- 11/20 [h5py]\n",
      "   ------------------------ --------------- 12/20 [grpcio]\n",
      "   ------------------------ --------------- 12/20 [grpcio]\n",
      "   ------------------------ --------------- 12/20 [grpcio]\n",
      "   -------------------------- ------------- 13/20 [google_pasta]\n",
      "   ------------------------------ --------- 15/20 [astunparse]\n",
      "   -------------------------------- ------- 16/20 [absl-py]\n",
      "   ---------------------------------- ----- 17/20 [tensorboard]\n",
      "   ---------------------------------- ----- 17/20 [tensorboard]\n",
      "   ---------------------------------- ----- 17/20 [tensorboard]\n",
      "   ---------------------------------- ----- 17/20 [tensorboard]\n",
      "   ---------------------------------- ----- 17/20 [tensorboard]\n",
      "   ---------------------------------- ----- 17/20 [tensorboard]\n",
      "   ---------------------------------- ----- 17/20 [tensorboard]\n",
      "   ---------------------------------- ----- 17/20 [tensorboard]\n",
      "   ---------------------------------- ----- 17/20 [tensorboard]\n",
      "   ------------------------------------ --- 18/20 [keras]\n",
      "   ------------------------------------ --- 18/20 [keras]\n",
      "   ------------------------------------ --- 18/20 [keras]\n",
      "   ------------------------------------ --- 18/20 [keras]\n",
      "   ------------------------------------ --- 18/20 [keras]\n",
      "   ------------------------------------ --- 18/20 [keras]\n",
      "   ------------------------------------ --- 18/20 [keras]\n",
      "   ------------------------------------ --- 18/20 [keras]\n",
      "   ------------------------------------ --- 18/20 [keras]\n",
      "   ------------------------------------ --- 18/20 [keras]\n",
      "   ------------------------------------ --- 18/20 [keras]\n",
      "   ------------------------------------ --- 18/20 [keras]\n",
      "   ------------------------------------ --- 18/20 [keras]\n",
      "   ------------------------------------ --- 18/20 [keras]\n",
      "   ------------------------------------ --- 18/20 [keras]\n",
      "   ------------------------------------ --- 18/20 [keras]\n",
      "   ------------------------------------ --- 18/20 [keras]\n",
      "   ------------------------------------ --- 18/20 [keras]\n",
      "   ------------------------------------ --- 18/20 [keras]\n",
      "   ------------------------------------ --- 18/20 [keras]\n",
      "   ------------------------------------ --- 18/20 [keras]\n",
      "   ------------------------------------ --- 18/20 [keras]\n",
      "   -------------------------------------- - 19/20 [tensorflow]\n",
      "   -------------------------------------- - 19/20 [tensorflow]\n",
      "   -------------------------------------- - 19/20 [tensorflow]\n",
      "   -------------------------------------- - 19/20 [tensorflow]\n",
      "   -------------------------------------- - 19/20 [tensorflow]\n",
      "   -------------------------------------- - 19/20 [tensorflow]\n",
      "   -------------------------------------- - 19/20 [tensorflow]\n",
      "   -------------------------------------- - 19/20 [tensorflow]\n",
      "   -------------------------------------- - 19/20 [tensorflow]\n",
      "   -------------------------------------- - 19/20 [tensorflow]\n",
      "   -------------------------------------- - 19/20 [tensorflow]\n",
      "   -------------------------------------- - 19/20 [tensorflow]\n",
      "   -------------------------------------- - 19/20 [tensorflow]\n",
      "   -------------------------------------- - 19/20 [tensorflow]\n",
      "   -------------------------------------- - 19/20 [tensorflow]\n",
      "   -------------------------------------- - 19/20 [tensorflow]\n",
      "   -------------------------------------- - 19/20 [tensorflow]\n",
      "   -------------------------------------- - 19/20 [tensorflow]\n",
      "   -------------------------------------- - 19/20 [tensorflow]\n",
      "   -------------------------------------- - 19/20 [tensorflow]\n",
      "   -------------------------------------- - 19/20 [tensorflow]\n",
      "   -------------------------------------- - 19/20 [tensorflow]\n",
      "   -------------------------------------- - 19/20 [tensorflow]\n",
      "   -------------------------------------- - 19/20 [tensorflow]\n",
      "   -------------------------------------- - 19/20 [tensorflow]\n",
      "   -------------------------------------- - 19/20 [tensorflow]\n",
      "   -------------------------------------- - 19/20 [tensorflow]\n",
      "   -------------------------------------- - 19/20 [tensorflow]\n",
      "   -------------------------------------- - 19/20 [tensorflow]\n",
      "   -------------------------------------- - 19/20 [tensorflow]\n",
      "   -------------------------------------- - 19/20 [tensorflow]\n",
      "   -------------------------------------- - 19/20 [tensorflow]\n",
      "   -------------------------------------- - 19/20 [tensorflow]\n",
      "   -------------------------------------- - 19/20 [tensorflow]\n",
      "   -------------------------------------- - 19/20 [tensorflow]\n",
      "   -------------------------------------- - 19/20 [tensorflow]\n",
      "   -------------------------------------- - 19/20 [tensorflow]\n",
      "   -------------------------------------- - 19/20 [tensorflow]\n",
      "   -------------------------------------- - 19/20 [tensorflow]\n",
      "   -------------------------------------- - 19/20 [tensorflow]\n",
      "   -------------------------------------- - 19/20 [tensorflow]\n",
      "   -------------------------------------- - 19/20 [tensorflow]\n",
      "   -------------------------------------- - 19/20 [tensorflow]\n",
      "   -------------------------------------- - 19/20 [tensorflow]\n",
      "   -------------------------------------- - 19/20 [tensorflow]\n",
      "   -------------------------------------- - 19/20 [tensorflow]\n",
      "   -------------------------------------- - 19/20 [tensorflow]\n",
      "   -------------------------------------- - 19/20 [tensorflow]\n",
      "   -------------------------------------- - 19/20 [tensorflow]\n",
      "   -------------------------------------- - 19/20 [tensorflow]\n",
      "   -------------------------------------- - 19/20 [tensorflow]\n",
      "   -------------------------------------- - 19/20 [tensorflow]\n",
      "   -------------------------------------- - 19/20 [tensorflow]\n",
      "   -------------------------------------- - 19/20 [tensorflow]\n",
      "   -------------------------------------- - 19/20 [tensorflow]\n",
      "   -------------------------------------- - 19/20 [tensorflow]\n",
      "   -------------------------------------- - 19/20 [tensorflow]\n",
      "   -------------------------------------- - 19/20 [tensorflow]\n",
      "   -------------------------------------- - 19/20 [tensorflow]\n",
      "   -------------------------------------- - 19/20 [tensorflow]\n",
      "   -------------------------------------- - 19/20 [tensorflow]\n",
      "   -------------------------------------- - 19/20 [tensorflow]\n",
      "   -------------------------------------- - 19/20 [tensorflow]\n",
      "   -------------------------------------- - 19/20 [tensorflow]\n",
      "   -------------------------------------- - 19/20 [tensorflow]\n",
      "   -------------------------------------- - 19/20 [tensorflow]\n",
      "   -------------------------------------- - 19/20 [tensorflow]\n",
      "   -------------------------------------- - 19/20 [tensorflow]\n",
      "   -------------------------------------- - 19/20 [tensorflow]\n",
      "   -------------------------------------- - 19/20 [tensorflow]\n",
      "   -------------------------------------- - 19/20 [tensorflow]\n",
      "   -------------------------------------- - 19/20 [tensorflow]\n",
      "   -------------------------------------- - 19/20 [tensorflow]\n",
      "   -------------------------------------- - 19/20 [tensorflow]\n",
      "   -------------------------------------- - 19/20 [tensorflow]\n",
      "   -------------------------------------- - 19/20 [tensorflow]\n",
      "   -------------------------------------- - 19/20 [tensorflow]\n",
      "   -------------------------------------- - 19/20 [tensorflow]\n",
      "   -------------------------------------- - 19/20 [tensorflow]\n",
      "   -------------------------------------- - 19/20 [tensorflow]\n",
      "   -------------------------------------- - 19/20 [tensorflow]\n",
      "   -------------------------------------- - 19/20 [tensorflow]\n",
      "   -------------------------------------- - 19/20 [tensorflow]\n",
      "   -------------------------------------- - 19/20 [tensorflow]\n",
      "   -------------------------------------- - 19/20 [tensorflow]\n",
      "   -------------------------------------- - 19/20 [tensorflow]\n",
      "   -------------------------------------- - 19/20 [tensorflow]\n",
      "   -------------------------------------- - 19/20 [tensorflow]\n",
      "   -------------------------------------- - 19/20 [tensorflow]\n",
      "   -------------------------------------- - 19/20 [tensorflow]\n",
      "   -------------------------------------- - 19/20 [tensorflow]\n",
      "   -------------------------------------- - 19/20 [tensorflow]\n",
      "   -------------------------------------- - 19/20 [tensorflow]\n",
      "   -------------------------------------- - 19/20 [tensorflow]\n",
      "   -------------------------------------- - 19/20 [tensorflow]\n",
      "   -------------------------------------- - 19/20 [tensorflow]\n",
      "   -------------------------------------- - 19/20 [tensorflow]\n",
      "   -------------------------------------- - 19/20 [tensorflow]\n",
      "   -------------------------------------- - 19/20 [tensorflow]\n",
      "   -------------------------------------- - 19/20 [tensorflow]\n",
      "   -------------------------------------- - 19/20 [tensorflow]\n",
      "   -------------------------------------- - 19/20 [tensorflow]\n",
      "   -------------------------------------- - 19/20 [tensorflow]\n",
      "   -------------------------------------- - 19/20 [tensorflow]\n",
      "   -------------------------------------- - 19/20 [tensorflow]\n",
      "   -------------------------------------- - 19/20 [tensorflow]\n",
      "   -------------------------------------- - 19/20 [tensorflow]\n",
      "   -------------------------------------- - 19/20 [tensorflow]\n",
      "   -------------------------------------- - 19/20 [tensorflow]\n",
      "   -------------------------------------- - 19/20 [tensorflow]\n",
      "   -------------------------------------- - 19/20 [tensorflow]\n",
      "   -------------------------------------- - 19/20 [tensorflow]\n",
      "   -------------------------------------- - 19/20 [tensorflow]\n",
      "   -------------------------------------- - 19/20 [tensorflow]\n",
      "   -------------------------------------- - 19/20 [tensorflow]\n",
      "   -------------------------------------- - 19/20 [tensorflow]\n",
      "   -------------------------------------- - 19/20 [tensorflow]\n",
      "   -------------------------------------- - 19/20 [tensorflow]\n",
      "   -------------------------------------- - 19/20 [tensorflow]\n",
      "   -------------------------------------- - 19/20 [tensorflow]\n",
      "   -------------------------------------- - 19/20 [tensorflow]\n",
      "   -------------------------------------- - 19/20 [tensorflow]\n",
      "   -------------------------------------- - 19/20 [tensorflow]\n",
      "   -------------------------------------- - 19/20 [tensorflow]\n",
      "   -------------------------------------- - 19/20 [tensorflow]\n",
      "   -------------------------------------- - 19/20 [tensorflow]\n",
      "   -------------------------------------- - 19/20 [tensorflow]\n",
      "   -------------------------------------- - 19/20 [tensorflow]\n",
      "   -------------------------------------- - 19/20 [tensorflow]\n",
      "   -------------------------------------- - 19/20 [tensorflow]\n",
      "   -------------------------------------- - 19/20 [tensorflow]\n",
      "   -------------------------------------- - 19/20 [tensorflow]\n",
      "   -------------------------------------- - 19/20 [tensorflow]\n",
      "   -------------------------------------- - 19/20 [tensorflow]\n",
      "   -------------------------------------- - 19/20 [tensorflow]\n",
      "   -------------------------------------- - 19/20 [tensorflow]\n",
      "   -------------------------------------- - 19/20 [tensorflow]\n",
      "   -------------------------------------- - 19/20 [tensorflow]\n",
      "   -------------------------------------- - 19/20 [tensorflow]\n",
      "   -------------------------------------- - 19/20 [tensorflow]\n",
      "   -------------------------------------- - 19/20 [tensorflow]\n",
      "   -------------------------------------- - 19/20 [tensorflow]\n",
      "   -------------------------------------- - 19/20 [tensorflow]\n",
      "   -------------------------------------- - 19/20 [tensorflow]\n",
      "   -------------------------------------- - 19/20 [tensorflow]\n",
      "   -------------------------------------- - 19/20 [tensorflow]\n",
      "   -------------------------------------- - 19/20 [tensorflow]\n",
      "   -------------------------------------- - 19/20 [tensorflow]\n",
      "   -------------------------------------- - 19/20 [tensorflow]\n",
      "   -------------------------------------- - 19/20 [tensorflow]\n",
      "   -------------------------------------- - 19/20 [tensorflow]\n",
      "   -------------------------------------- - 19/20 [tensorflow]\n",
      "   -------------------------------------- - 19/20 [tensorflow]\n",
      "   -------------------------------------- - 19/20 [tensorflow]\n",
      "   -------------------------------------- - 19/20 [tensorflow]\n",
      "   -------------------------------------- - 19/20 [tensorflow]\n",
      "   -------------------------------------- - 19/20 [tensorflow]\n",
      "   -------------------------------------- - 19/20 [tensorflow]\n",
      "   -------------------------------------- - 19/20 [tensorflow]\n",
      "   -------------------------------------- - 19/20 [tensorflow]\n",
      "   -------------------------------------- - 19/20 [tensorflow]\n",
      "   -------------------------------------- - 19/20 [tensorflow]\n",
      "   -------------------------------------- - 19/20 [tensorflow]\n",
      "   -------------------------------------- - 19/20 [tensorflow]\n",
      "   -------------------------------------- - 19/20 [tensorflow]\n",
      "   -------------------------------------- - 19/20 [tensorflow]\n",
      "   -------------------------------------- - 19/20 [tensorflow]\n",
      "   -------------------------------------- - 19/20 [tensorflow]\n",
      "   -------------------------------------- - 19/20 [tensorflow]\n",
      "   -------------------------------------- - 19/20 [tensorflow]\n",
      "   -------------------------------------- - 19/20 [tensorflow]\n",
      "   -------------------------------------- - 19/20 [tensorflow]\n",
      "   -------------------------------------- - 19/20 [tensorflow]\n",
      "   -------------------------------------- - 19/20 [tensorflow]\n",
      "   -------------------------------------- - 19/20 [tensorflow]\n",
      "   -------------------------------------- - 19/20 [tensorflow]\n",
      "   -------------------------------------- - 19/20 [tensorflow]\n",
      "   -------------------------------------- - 19/20 [tensorflow]\n",
      "   -------------------------------------- - 19/20 [tensorflow]\n",
      "   -------------------------------------- - 19/20 [tensorflow]\n",
      "   -------------------------------------- - 19/20 [tensorflow]\n",
      "   -------------------------------------- - 19/20 [tensorflow]\n",
      "   -------------------------------------- - 19/20 [tensorflow]\n",
      "   -------------------------------------- - 19/20 [tensorflow]\n",
      "   -------------------------------------- - 19/20 [tensorflow]\n",
      "   -------------------------------------- - 19/20 [tensorflow]\n",
      "   -------------------------------------- - 19/20 [tensorflow]\n",
      "   -------------------------------------- - 19/20 [tensorflow]\n",
      "   -------------------------------------- - 19/20 [tensorflow]\n",
      "   -------------------------------------- - 19/20 [tensorflow]\n",
      "   -------------------------------------- - 19/20 [tensorflow]\n",
      "   -------------------------------------- - 19/20 [tensorflow]\n",
      "   -------------------------------------- - 19/20 [tensorflow]\n",
      "   -------------------------------------- - 19/20 [tensorflow]\n",
      "   -------------------------------------- - 19/20 [tensorflow]\n",
      "   -------------------------------------- - 19/20 [tensorflow]\n",
      "   -------------------------------------- - 19/20 [tensorflow]\n",
      "   -------------------------------------- - 19/20 [tensorflow]\n",
      "   -------------------------------------- - 19/20 [tensorflow]\n",
      "   -------------------------------------- - 19/20 [tensorflow]\n",
      "   -------------------------------------- - 19/20 [tensorflow]\n",
      "   -------------------------------------- - 19/20 [tensorflow]\n",
      "   -------------------------------------- - 19/20 [tensorflow]\n",
      "   -------------------------------------- - 19/20 [tensorflow]\n",
      "   -------------------------------------- - 19/20 [tensorflow]\n",
      "   -------------------------------------- - 19/20 [tensorflow]\n",
      "   -------------------------------------- - 19/20 [tensorflow]\n",
      "   -------------------------------------- - 19/20 [tensorflow]\n",
      "   -------------------------------------- - 19/20 [tensorflow]\n",
      "   -------------------------------------- - 19/20 [tensorflow]\n",
      "   -------------------------------------- - 19/20 [tensorflow]\n",
      "   -------------------------------------- - 19/20 [tensorflow]\n",
      "   -------------------------------------- - 19/20 [tensorflow]\n",
      "   -------------------------------------- - 19/20 [tensorflow]\n",
      "   -------------------------------------- - 19/20 [tensorflow]\n",
      "   -------------------------------------- - 19/20 [tensorflow]\n",
      "   -------------------------------------- - 19/20 [tensorflow]\n",
      "   -------------------------------------- - 19/20 [tensorflow]\n",
      "   -------------------------------------- - 19/20 [tensorflow]\n",
      "   -------------------------------------- - 19/20 [tensorflow]\n",
      "   -------------------------------------- - 19/20 [tensorflow]\n",
      "   -------------------------------------- - 19/20 [tensorflow]\n",
      "   ---------------------------------------- 20/20 [tensorflow]\n",
      "\n",
      "Successfully installed absl-py-2.3.1 astunparse-1.6.3 flatbuffers-25.9.23 gast-0.6.0 google_pasta-0.2.0 grpcio-1.75.1 h5py-3.15.0 keras-3.11.3 libclang-18.1.1 ml_dtypes-0.5.3 namex-0.1.0 opt_einsum-3.4.0 optree-0.17.0 protobuf-6.32.1 tensorboard-2.20.0 tensorboard-data-server-0.7.2 tensorflow-2.20.0 termcolor-3.1.0 werkzeug-3.1.3 wrapt-1.17.3\n",
      "Note: you may need to restart the kernel to use updated packages.\n"
     ]
    }
   ],
   "source": [
    "%pip install tensorflow\n"
   ]
  },
  {
   "cell_type": "code",
   "execution_count": 7,
   "id": "d7aa6275-8364-4f90-af0e-9fe605f4c08a",
   "metadata": {},
   "outputs": [
    {
     "data": {
      "image/png": "[encoded data removed]",
      "text/plain": [
       "<Figure size 600x600 with 9 Axes>"
      ]
     },
     "metadata": {},
     "output_type": "display_data"
    }
   ],
   "source": [
    "import tensorflow as tf\n",
    "from matplotlib import pyplot as plt\n",
    "\n",
    "# ✅ The correct module name is 'datasets', not 'dataset'\n",
    "fmnist = tf.keras.datasets.fashion_mnist\n",
    "\n",
    "# ✅ Correct function call\n",
    "(X_train, y_train), (X_test, y_test) = fmnist.load_data()\n",
    "\n",
    "# ✅ Display the first 9 images\n",
    "plt.figure(figsize=(6,6))\n",
    "for i in range(9):\n",
    "    plt.subplot(3, 3, i + 1)\n",
    "    plt.imshow(X_train[i], cmap='gray')\n",
    "    plt.axis('off')\n",
    "plt.show()\n"
   ]
  },
  {
   "cell_type": "code",
   "execution_count": 8,
   "id": "5b5fb14e-f26b-4cd4-8276-cb141decb033",
   "metadata": {},
   "outputs": [],
   "source": [
    "class TFModel:\n",
    "    fmnist = tf.keras.datasets.fashion_mnist\n",
    "    (X_train, y_train), (X_test, y_test) = fmnist.load_data()\n",
    "    X_train, x_test = X_train/255, X_test/255\n",
    "    X_train, y_train = X_train[:10000],y_train[:10000]\n",
    "\n",
    "    def training(self):\n",
    "        model=tf.keras.models.Sequential(\n",
    "            [\n",
    "                tf.keras.layers.Flatten(input_shape=(28,28)),\n",
    "                tf.keras.layers.Dense(128,activation='relu'),\n",
    "                tf.keras.layers.Dropout(0.2),\n",
    "                tf.keras.layers.Dense(10),\n",
    "            ]\n",
    "        )\n",
    "        loss_fn=tf.keras.losses.SparseCategoricalCrossentropy(from_logits=True)\n",
    "        model.compile(optimizer='adam', loss=loss_fn, metrics=['accuracy'])\n",
    "        model.fit(self.X_train, self.y_train, epochs=1)\n",
    "\n",
    "        return model\n",
    "        "
   ]
  },
  {
   "cell_type": "code",
   "execution_count": 9,
   "id": "56f4d0dc-9561-412e-96dd-e605979101db",
   "metadata": {},
   "outputs": [
    {
     "name": "stdout",
     "output_type": "stream",
     "text": [
      "WARNING:tensorflow:From C:\\Users\\ytian\\miniconda3\\envs\\localds2\\Lib\\site-packages\\tf_keras\\src\\backend.py:873: The name tf.get_default_graph is deprecated. Please use tf.compat.v1.get_default_graph instead.\n",
      "\n",
      "WARNING:tensorflow:From C:\\Users\\ytian\\miniconda3\\envs\\localds2\\Lib\\site-packages\\tf_keras\\src\\optimizers\\__init__.py:317: The name tf.train.Optimizer is deprecated. Please use tf.compat.v1.train.Optimizer instead.\n",
      "\n",
      "WARNING:tensorflow:From C:\\Users\\ytian\\miniconda3\\envs\\localds2\\Lib\\site-packages\\tf_keras\\src\\utils\\tf_utils.py:492: The name tf.ragged.RaggedTensorValue is deprecated. Please use tf.compat.v1.ragged.RaggedTensorValue instead.\n",
      "\n",
      "WARNING:tensorflow:From C:\\Users\\ytian\\miniconda3\\envs\\localds2\\Lib\\site-packages\\tf_keras\\src\\engine\\base_layer_utils.py:384: The name tf.executing_eagerly_outside_functions is deprecated. Please use tf.compat.v1.executing_eagerly_outside_functions instead.\n",
      "\n",
      "313/313 [==============================] - 2s 3ms/step - loss: 0.7761 - accuracy: 0.7244\n"
     ]
    }
   ],
   "source": [
    "tfmodel = TFModel()\n",
    "model = tfmodel.training()"
   ]
  },
  {
   "cell_type": "code",
   "execution_count": 62,
   "id": "2b1aa8d8-1f8c-462b-8d32-74b182fb476a",
   "metadata": {},
   "outputs": [
    {
     "name": "stdout",
     "output_type": "stream",
     "text": [
      "\u001b[1m1/1\u001b[0m \u001b[32m━━━━━━━━━━━━━━━━━━━━\u001b[0m\u001b[37m\u001b[0m \u001b[1m0s\u001b[0m 75ms/step\n"
     ]
    },
    {
     "data": {
      "text/plain": [
       "array([[-4.121047  , -5.028302  , -2.586026  , -3.984714  , -4.2030106 ,\n",
       "         2.900264  , -1.9720377 ,  3.7941837 ,  0.38108268,  5.111182  ]],\n",
       "      dtype=float32)"
      ]
     },
     "execution_count": 62,
     "metadata": {},
     "output_type": "execute_result"
    }
   ],
   "source": [
    "model.predict(TFModel().X_test[0:1])\n"
   ]
  },
  {
   "cell_type": "code",
   "execution_count": null,
   "id": "48a324fc-6417-4f0c-9bd9-3291733c939a",
   "metadata": {},
   "outputs": [],
   "source": []
  },
  {
   "cell_type": "code",
   "execution_count": 10,
   "id": "57d7706f-1494-4162-a554-030aa63a6da5",
   "metadata": {},
   "outputs": [
    {
     "name": "stdout",
     "output_type": "stream",
     "text": [
      "313/313 [==============================] - 2s 3ms/step - loss: 0.7620 - accuracy: 0.7357\n",
      "1/1 [==============================] - 0s 138ms/step\n",
      "Predicted class: [9]\n",
      "True label: 9\n"
     ]
    }
   ],
   "source": [
    "import numpy as np\n",
    "\n",
    "# Create a new instance (optional — or reuse tfmodel)\n",
    "tfmodel = TFModel()\n",
    "model = tfmodel.training()\n",
    "\n",
    "# Get the first test image (reshape to batch size = 1)\n",
    "sample = tfmodel.X_test[0:1]  # ✅ correct slicing\n",
    "pred = model.predict(sample)\n",
    "\n",
    "# Convert raw logits to predicted class\n",
    "predicted_class = np.argmax(pred, axis=1)\n",
    "print(\"Predicted class:\", predicted_class)\n",
    "print(\"True label:\", tfmodel.y_test[0])\n"
   ]
  },
  {
   "cell_type": "code",
   "execution_count": 61,
   "id": "36e48af6-522b-42d7-8d1f-f78ec0b5ee0a",
   "metadata": {
    "collapsed": true,
    "jupyter": {
     "outputs_hidden": true
    }
   },
   "outputs": [
    {
     "name": "stderr",
     "output_type": "stream",
     "text": [
      "ERROR - Exception\n",
      "Traceback (most recent call last):\n",
      "  File \"C:\\Users\\ytian\\miniconda3\\envs\\localds2\\Lib\\site-packages\\IPython\\core\\interactiveshell.py\", line 3699, in run_code\n",
      "    exec(code_obj, self.user_global_ns, self.user_ns)\n",
      "  File \"C:\\Users\\ytian\\AppData\\Local\\Temp\\ipykernel_26072\\1550949533.py\", line 13, in <module>\n",
      "    tf_model = TensorFlowModel(\n",
      "               ^^^^^^^^^^^^^^^^\n",
      "  File \"C:\\Users\\ytian\\miniconda3\\envs\\localds2\\Lib\\site-packages\\ads\\common\\decorator\\runtime_dependency.py\", line 174, in wrapper\n",
      "    return func(*args, **kwargs)\n",
      "           ^^^^^^^^^^^^^^^^^^^^^\n",
      "  File \"C:\\Users\\ytian\\miniconda3\\envs\\localds2\\Lib\\site-packages\\ads\\model\\framework\\tensorflow_model.py\", line 174, in __init__\n",
      "    super().__init__(\n",
      "  File \"C:\\Users\\ytian\\miniconda3\\envs\\localds2\\Lib\\site-packages\\ads\\model\\generic_model.py\", line 392, in __init__\n",
      "    DataScienceModel()\n",
      "  File \"C:\\Users\\ytian\\miniconda3\\envs\\localds2\\Lib\\site-packages\\ads\\model\\datascience_model.py\", line 663, in __init__\n",
      "    self.dsc_model = self._to_oci_dsc_model()\n",
      "                     ^^^^^^^^^^^^^^^^^^^^^^^^\n",
      "  File \"C:\\Users\\ytian\\miniconda3\\envs\\localds2\\Lib\\site-packages\\ads\\model\\datascience_model.py\", line 1744, in _to_oci_dsc_model\n",
      "    return OCIDataScienceModel(**dsc_spec)\n",
      "           ^^^^^^^^^^^^^^^^^^^^^^^^^^^^^^^\n",
      "  File \"C:\\Users\\ytian\\miniconda3\\envs\\localds2\\Lib\\site-packages\\ads\\common\\oci_mixin.py\", line 605, in __init__\n",
      "    self.deserialize(kwargs), merge_strategy=MergeStrategy.MERGE\n",
      "    ^^^^^^^^^^^^^^^^^^^^^^^^\n",
      "  File \"C:\\Users\\ytian\\miniconda3\\envs\\localds2\\Lib\\site-packages\\ads\\common\\oci_mixin.py\", line 573, in deserialize\n",
      "    return super().deserialize(data, to_cls)\n",
      "           ^^^^^^^^^^^^^^^^^^^^^^^^^^^^^^^^^\n",
      "  File \"C:\\Users\\ytian\\miniconda3\\envs\\localds2\\Lib\\site-packages\\ads\\common\\oci_mixin.py\", line 237, in deserialize\n",
      "    cls.type_mappings = cls.init_client().base_client.type_mappings\n",
      "                        ^^^^^^^^^^^^^^^^^\n",
      "  File \"C:\\Users\\ytian\\miniconda3\\envs\\localds2\\Lib\\site-packages\\ads\\common\\oci_datascience.py\", line 26, in init_client\n",
      "    return cls._init_client(client=oci.data_science.DataScienceClient, **kwargs)\n",
      "           ^^^^^^^^^^^^^^^^^^^^^^^^^^^^^^^^^^^^^^^^^^^^^^^^^^^^^^^^^^^^^^^^^^^^^\n",
      "  File \"C:\\Users\\ytian\\miniconda3\\envs\\localds2\\Lib\\site-packages\\ads\\common\\oci_mixin.py\", line 136, in _init_client\n",
      "    return client(**auth)\n",
      "           ^^^^^^^^^^^^^^\n",
      "TypeError: DataScienceClient.__init__() missing 1 required positional argument: 'config'\n"
     ]
    },
    {
     "name": "stdout",
     "output_type": "stream",
     "text": [
      "Model artifact directory: C:\\Users\\ytian\\AppData\\Local\\Temp\\tmpw1iuc1do\n"
     ]
    },
    {
     "name": "stderr",
     "output_type": "stream",
     "text": [
      "TypeError: DataScienceClient.__init__() missing 1 required positional argument: 'config'"
     ]
    }
   ],
   "source": [
    "import os\n",
    "os.environ[\"ODSC_MODEL_LOCAL_RUN\"] = \"True\"\n",
    "\n",
    "import ads.common.auth as authutil\n",
    "authutil.default_signer = lambda *args, **kwargs: {\"signer\": None}\n",
    "\n",
    "from ads.model.framework.tensorflow_model import TensorFlowModel\n",
    "import tempfile\n",
    "\n",
    "artifact_dir = tempfile.mkdtemp()\n",
    "print(f\"Model artifact directory: {artifact_dir}\")\n",
    "\n",
    "tf_model = TensorFlowModel(\n",
    "    estimator=model,\n",
    "    artifact_dir=artifact_dir,\n",
    "    auth={\"signer\": None}     # 👈 prevents ADS from calling OCI APIs\n",
    ")\n"
   ]
  },
  {
   "cell_type": "code",
   "execution_count": 53,
   "id": "336ec5d5-8ea1-4eef-9479-e9813e2d3080",
   "metadata": {},
   "outputs": [
    {
     "name": "stdout",
     "output_type": "stream",
     "text": [
      "✅ Local artifact directory: C:\\Users\\ytian\\AppData\\Local\\Temp\\tmpt79a049g\n",
      "INFO:absl:Function `__call__` contains input name(s) resource with unsupported characters which will be renamed to sequential_6_1_dense_13_1_biasadd_readvariableop_resource in the SavedModel.\n",
      "INFO:absl:Function `__call__` contains input name(s) resource with unsupported characters which will be renamed to sequential_6_1_dense_13_1_biasadd_readvariableop_resource in the SavedModel.\n",
      "INFO:tensorflow:Assets written to: C:\\Users\\ytian\\AppData\\Local\\Temp\\tmpt79a049g\\model\\assets\n",
      "INFO:tensorflow:Assets written to: C:\\Users\\ytian\\AppData\\Local\\Temp\\tmpt79a049g\\model\\assets\n",
      "Saved artifact at 'C:\\Users\\ytian\\AppData\\Local\\Temp\\tmpt79a049g\\model'. The following endpoints are available:\n",
      "\n",
      "* Endpoint 'serve'\n",
      "  args_0 (POSITIONAL_ONLY): TensorSpec(shape=(None, 28, 28), dtype=tf.float32, name='keras_tensor_30')\n",
      "Output Type:\n",
      "  TensorSpec(shape=(None, 10), dtype=tf.float32, name=None)\n",
      "Captures:\n",
      "  2761286468240: TensorSpec(shape=(), dtype=tf.resource, name=None)\n",
      "  2761286479568: TensorSpec(shape=(), dtype=tf.resource, name=None)\n",
      "  2761286477072: TensorSpec(shape=(), dtype=tf.resource, name=None)\n",
      "  2761286475536: TensorSpec(shape=(), dtype=tf.resource, name=None)\n",
      "✅ Model packaged locally (OCI-free).\n",
      "📂 Files in artifact dir: ['model', 'runtime.yaml', 'score.py']\n"
     ]
    }
   ],
   "source": [
    "# === Step 3: Package locally (OCI-free) ===\n",
    "artifact_dir = tempfile.mkdtemp()\n",
    "print(f\"✅ Local artifact directory: {artifact_dir}\")\n",
    "\n",
    "# Save TensorFlow model (✅ correct format)\n",
    "model_save_path = os.path.join(artifact_dir, \"model\")\n",
    "model.export(model_save_path)  # instead of model.save()\n",
    "\n",
    "# Create runtime.yaml manually\n",
    "runtime_yaml = {\n",
    "    \"INFERENCE_ENV_PATH\": \"tensorflow26_p37_cpu_v2\",\n",
    "    \"MODEL_ARTIFACT_VERSION\": \"2.0\",\n",
    "    \"MODEL_DEPLOYMENT\": {\n",
    "        \"INFERENCE_CONDA_ENV\": \"tensorflow26_p37_cpu_v2\",\n",
    "        \"INFERENCE_ENV_SLUG\": \"tensorflow26\",\n",
    "        \"INFERENCE_ENV_TYPE\": \"python\"\n",
    "    }\n",
    "}\n",
    "with open(os.path.join(artifact_dir, \"runtime.yaml\"), \"w\") as f:\n",
    "    yaml.dump(runtime_yaml, f)\n",
    "\n",
    "# Create score.py manually\n",
    "score_py = \"\"\"import tensorflow as tf\n",
    "import numpy as np\n",
    "import os\n",
    "\n",
    "def load_model(model_dir):\n",
    "    return tf.keras.models.load_model(os.path.join(model_dir, \"model\"))\n",
    "\n",
    "def predict(data, model):\n",
    "    arr = np.array(data)\n",
    "    preds = model.predict(arr)\n",
    "    return preds.tolist()\n",
    "\"\"\"\n",
    "with open(os.path.join(artifact_dir, \"score.py\"), \"w\") as f:\n",
    "    f.write(score_py)\n",
    "\n",
    "print(\"✅ Model packaged locally (OCI-free).\")\n",
    "print(\"📂 Files in artifact dir:\", os.listdir(artifact_dir))\n"
   ]
  },
  {
   "cell_type": "code",
   "execution_count": 59,
   "id": "fe9b42a0-0d2b-481b-8971-937d6aa8fe60",
   "metadata": {},
   "outputs": [
    {
     "name": "stdout",
     "output_type": "stream",
     "text": [
      "✅ Inference OK. Predicted logits: {'output_0': <tf.Tensor: shape=(1, 10), dtype=float32, numpy=\n",
      "array([[-4.121047  , -5.028302  , -2.586026  , -3.984714  , -4.2030106 ,\n",
      "         2.900264  , -1.9720377 ,  3.7941837 ,  0.38108268,  5.111182  ]],\n",
      "      dtype=float32)>}\n"
     ]
    }
   ],
   "source": [
    "import tensorflow as tf\n",
    "from tensorflow import keras\n",
    "\n",
    "saved_model_path = r\"C:\\Users\\ytian\\AppData\\Local\\Temp\\tmpt79a049g\\model\"\n",
    "\n",
    "# Load as a TensorFlow SavedModel for inference\n",
    "model_layer = keras.layers.TFSMLayer(saved_model_path, call_endpoint='serving_default')\n",
    "\n",
    "# Run prediction\n",
    "import numpy as np\n",
    "(X_train, y_train), (X_test, y_test) = keras.datasets.fashion_mnist.load_data()\n",
    "X_test = X_test / 255.0\n",
    "\n",
    "# Prepare one sample (add batch dimension)\n",
    "sample = np.expand_dims(X_test[0], axis=0)\n",
    "pred = model_layer(sample)\n",
    "\n",
    "print(\"✅ Inference OK. Predicted logits:\", pred)\n"
   ]
  },
  {
   "cell_type": "code",
   "execution_count": null,
   "id": "13e2c755-07bf-46ba-890b-45401185c289",
   "metadata": {},
   "outputs": [],
   "source": []
  }
 ],
 "metadata": {
  "kernelspec": {
   "display_name": "Python (localds2)",
   "language": "python",
   "name": "localds2"
  },
  "language_info": {
   "codemirror_mode": {
    "name": "ipython",
    "version": 3
   },
   "file_extension": ".py",
   "mimetype": "text/x-python",
   "name": "python",
   "nbconvert_exporter": "python",
   "pygments_lexer": "ipython3",
   "version": "3.11.13"
  }
 },
 "nbformat": 4,
 "nbformat_minor": 5
}
