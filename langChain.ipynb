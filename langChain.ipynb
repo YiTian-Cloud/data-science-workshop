{
 "cells": [
  {
   "cell_type": "code",
   "execution_count": 2,
   "id": "064dc1f1-e72a-4939-8ab4-752c41a0a7d1",
   "metadata": {
    "collapsed": true,
    "jupyter": {
     "outputs_hidden": true
    }
   },
   "outputs": [
    {
     "name": "stdout",
     "output_type": "stream",
     "text": [
      "Requirement already satisfied: langchain_community in c:\\users\\ytian\\miniconda3\\envs\\localds2\\lib\\site-packages (0.3.31)\n",
      "Requirement already satisfied: faiss-cpu in c:\\users\\ytian\\miniconda3\\envs\\localds2\\lib\\site-packages (1.12.0)\n",
      "Requirement already satisfied: langchain-core<2.0.0,>=0.3.78 in c:\\users\\ytian\\miniconda3\\envs\\localds2\\lib\\site-packages (from langchain_community) (0.3.79)\n",
      "Requirement already satisfied: langchain<2.0.0,>=0.3.27 in c:\\users\\ytian\\miniconda3\\envs\\localds2\\lib\\site-packages (from langchain_community) (0.3.27)\n",
      "Requirement already satisfied: SQLAlchemy<3.0.0,>=1.4.0 in c:\\users\\ytian\\miniconda3\\envs\\localds2\\lib\\site-packages (from langchain_community) (1.4.46)\n",
      "Requirement already satisfied: requests<3.0.0,>=2.32.5 in c:\\users\\ytian\\miniconda3\\envs\\localds2\\lib\\site-packages (from langchain_community) (2.32.5)\n",
      "Requirement already satisfied: PyYAML<7.0.0,>=5.3.0 in c:\\users\\ytian\\miniconda3\\envs\\localds2\\lib\\site-packages (from langchain_community) (6.0.3)\n",
      "Requirement already satisfied: aiohttp<4.0.0,>=3.8.3 in c:\\users\\ytian\\miniconda3\\envs\\localds2\\lib\\site-packages (from langchain_community) (3.13.0)\n",
      "Requirement already satisfied: tenacity!=8.4.0,<10.0.0,>=8.1.0 in c:\\users\\ytian\\miniconda3\\envs\\localds2\\lib\\site-packages (from langchain_community) (9.1.2)\n",
      "Requirement already satisfied: dataclasses-json<0.7.0,>=0.6.7 in c:\\users\\ytian\\miniconda3\\envs\\localds2\\lib\\site-packages (from langchain_community) (0.6.7)\n",
      "Requirement already satisfied: pydantic-settings<3.0.0,>=2.10.1 in c:\\users\\ytian\\miniconda3\\envs\\localds2\\lib\\site-packages (from langchain_community) (2.11.0)\n",
      "Requirement already satisfied: langsmith<1.0.0,>=0.1.125 in c:\\users\\ytian\\miniconda3\\envs\\localds2\\lib\\site-packages (from langchain_community) (0.4.35)\n",
      "Requirement already satisfied: httpx-sse<1.0.0,>=0.4.0 in c:\\users\\ytian\\miniconda3\\envs\\localds2\\lib\\site-packages (from langchain_community) (0.4.3)\n",
      "Requirement already satisfied: numpy>=1.26.2 in c:\\users\\ytian\\miniconda3\\envs\\localds2\\lib\\site-packages (from langchain_community) (2.3.3)\n",
      "Requirement already satisfied: aiohappyeyeballs>=2.5.0 in c:\\users\\ytian\\miniconda3\\envs\\localds2\\lib\\site-packages (from aiohttp<4.0.0,>=3.8.3->langchain_community) (2.6.1)\n",
      "Requirement already satisfied: aiosignal>=1.4.0 in c:\\users\\ytian\\miniconda3\\envs\\localds2\\lib\\site-packages (from aiohttp<4.0.0,>=3.8.3->langchain_community) (1.4.0)\n",
      "Requirement already satisfied: attrs>=17.3.0 in c:\\users\\ytian\\miniconda3\\envs\\localds2\\lib\\site-packages (from aiohttp<4.0.0,>=3.8.3->langchain_community) (25.4.0)\n",
      "Requirement already satisfied: frozenlist>=1.1.1 in c:\\users\\ytian\\miniconda3\\envs\\localds2\\lib\\site-packages (from aiohttp<4.0.0,>=3.8.3->langchain_community) (1.8.0)\n",
      "Requirement already satisfied: multidict<7.0,>=4.5 in c:\\users\\ytian\\miniconda3\\envs\\localds2\\lib\\site-packages (from aiohttp<4.0.0,>=3.8.3->langchain_community) (6.7.0)\n",
      "Requirement already satisfied: propcache>=0.2.0 in c:\\users\\ytian\\miniconda3\\envs\\localds2\\lib\\site-packages (from aiohttp<4.0.0,>=3.8.3->langchain_community) (0.4.1)\n",
      "Requirement already satisfied: yarl<2.0,>=1.17.0 in c:\\users\\ytian\\miniconda3\\envs\\localds2\\lib\\site-packages (from aiohttp<4.0.0,>=3.8.3->langchain_community) (1.22.0)\n",
      "Requirement already satisfied: marshmallow<4.0.0,>=3.18.0 in c:\\users\\ytian\\miniconda3\\envs\\localds2\\lib\\site-packages (from dataclasses-json<0.7.0,>=0.6.7->langchain_community) (3.26.1)\n",
      "Requirement already satisfied: typing-inspect<1,>=0.4.0 in c:\\users\\ytian\\miniconda3\\envs\\localds2\\lib\\site-packages (from dataclasses-json<0.7.0,>=0.6.7->langchain_community) (0.9.0)\n",
      "Requirement already satisfied: langchain-text-splitters<1.0.0,>=0.3.9 in c:\\users\\ytian\\miniconda3\\envs\\localds2\\lib\\site-packages (from langchain<2.0.0,>=0.3.27->langchain_community) (0.3.11)\n",
      "Requirement already satisfied: pydantic<3.0.0,>=2.7.4 in c:\\users\\ytian\\miniconda3\\envs\\localds2\\lib\\site-packages (from langchain<2.0.0,>=0.3.27->langchain_community) (2.11.10)\n",
      "Requirement already satisfied: jsonpatch<2.0.0,>=1.33.0 in c:\\users\\ytian\\miniconda3\\envs\\localds2\\lib\\site-packages (from langchain-core<2.0.0,>=0.3.78->langchain_community) (1.33)\n",
      "Requirement already satisfied: typing-extensions<5.0.0,>=4.7.0 in c:\\users\\ytian\\miniconda3\\envs\\localds2\\lib\\site-packages (from langchain-core<2.0.0,>=0.3.78->langchain_community) (4.15.0)\n",
      "Requirement already satisfied: packaging<26.0.0,>=23.2.0 in c:\\users\\ytian\\miniconda3\\envs\\localds2\\lib\\site-packages (from langchain-core<2.0.0,>=0.3.78->langchain_community) (25.0)\n",
      "Requirement already satisfied: jsonpointer>=1.9 in c:\\users\\ytian\\miniconda3\\envs\\localds2\\lib\\site-packages (from jsonpatch<2.0.0,>=1.33.0->langchain-core<2.0.0,>=0.3.78->langchain_community) (3.0.0)\n",
      "Requirement already satisfied: httpx<1,>=0.23.0 in c:\\users\\ytian\\miniconda3\\envs\\localds2\\lib\\site-packages (from langsmith<1.0.0,>=0.1.125->langchain_community) (0.28.1)\n",
      "Requirement already satisfied: orjson>=3.9.14 in c:\\users\\ytian\\miniconda3\\envs\\localds2\\lib\\site-packages (from langsmith<1.0.0,>=0.1.125->langchain_community) (3.11.3)\n",
      "Requirement already satisfied: requests-toolbelt>=1.0.0 in c:\\users\\ytian\\miniconda3\\envs\\localds2\\lib\\site-packages (from langsmith<1.0.0,>=0.1.125->langchain_community) (1.0.0)\n",
      "Requirement already satisfied: zstandard>=0.23.0 in c:\\users\\ytian\\miniconda3\\envs\\localds2\\lib\\site-packages (from langsmith<1.0.0,>=0.1.125->langchain_community) (0.25.0)\n",
      "Requirement already satisfied: anyio in c:\\users\\ytian\\miniconda3\\envs\\localds2\\lib\\site-packages (from httpx<1,>=0.23.0->langsmith<1.0.0,>=0.1.125->langchain_community) (4.11.0)\n",
      "Requirement already satisfied: certifi in c:\\users\\ytian\\miniconda3\\envs\\localds2\\lib\\site-packages (from httpx<1,>=0.23.0->langsmith<1.0.0,>=0.1.125->langchain_community) (2025.10.5)\n",
      "Requirement already satisfied: httpcore==1.* in c:\\users\\ytian\\miniconda3\\envs\\localds2\\lib\\site-packages (from httpx<1,>=0.23.0->langsmith<1.0.0,>=0.1.125->langchain_community) (1.0.9)\n",
      "Requirement already satisfied: idna in c:\\users\\ytian\\miniconda3\\envs\\localds2\\lib\\site-packages (from httpx<1,>=0.23.0->langsmith<1.0.0,>=0.1.125->langchain_community) (3.10)\n",
      "Requirement already satisfied: h11>=0.16 in c:\\users\\ytian\\miniconda3\\envs\\localds2\\lib\\site-packages (from httpcore==1.*->httpx<1,>=0.23.0->langsmith<1.0.0,>=0.1.125->langchain_community) (0.16.0)\n",
      "Requirement already satisfied: annotated-types>=0.6.0 in c:\\users\\ytian\\miniconda3\\envs\\localds2\\lib\\site-packages (from pydantic<3.0.0,>=2.7.4->langchain<2.0.0,>=0.3.27->langchain_community) (0.7.0)\n",
      "Requirement already satisfied: pydantic-core==2.33.2 in c:\\users\\ytian\\miniconda3\\envs\\localds2\\lib\\site-packages (from pydantic<3.0.0,>=2.7.4->langchain<2.0.0,>=0.3.27->langchain_community) (2.33.2)\n",
      "Requirement already satisfied: typing-inspection>=0.4.0 in c:\\users\\ytian\\miniconda3\\envs\\localds2\\lib\\site-packages (from pydantic<3.0.0,>=2.7.4->langchain<2.0.0,>=0.3.27->langchain_community) (0.4.2)\n",
      "Requirement already satisfied: python-dotenv>=0.21.0 in c:\\users\\ytian\\miniconda3\\envs\\localds2\\lib\\site-packages (from pydantic-settings<3.0.0,>=2.10.1->langchain_community) (1.1.1)\n",
      "Requirement already satisfied: charset_normalizer<4,>=2 in c:\\users\\ytian\\miniconda3\\envs\\localds2\\lib\\site-packages (from requests<3.0.0,>=2.32.5->langchain_community) (3.4.3)\n",
      "Requirement already satisfied: urllib3<3,>=1.21.1 in c:\\users\\ytian\\miniconda3\\envs\\localds2\\lib\\site-packages (from requests<3.0.0,>=2.32.5->langchain_community) (2.5.0)\n",
      "Requirement already satisfied: greenlet!=0.4.17 in c:\\users\\ytian\\miniconda3\\envs\\localds2\\lib\\site-packages (from SQLAlchemy<3.0.0,>=1.4.0->langchain_community) (3.2.4)\n",
      "Requirement already satisfied: mypy-extensions>=0.3.0 in c:\\users\\ytian\\miniconda3\\envs\\localds2\\lib\\site-packages (from typing-inspect<1,>=0.4.0->dataclasses-json<0.7.0,>=0.6.7->langchain_community) (1.1.0)\n",
      "Requirement already satisfied: sniffio>=1.1 in c:\\users\\ytian\\miniconda3\\envs\\localds2\\lib\\site-packages (from anyio->httpx<1,>=0.23.0->langsmith<1.0.0,>=0.1.125->langchain_community) (1.3.1)\n",
      "Note: you may need to restart the kernel to use updated packages.\n"
     ]
    }
   ],
   "source": [
    "%pip install langchain_community faiss-cpu\n"
   ]
  },
  {
   "cell_type": "code",
   "execution_count": 2,
   "id": "259eeb8b-c256-4a46-aba9-adce5826ec6a",
   "metadata": {},
   "outputs": [],
   "source": [
    "from langchain_community.vectorstores import FAISS\n",
    "import ads"
   ]
  },
  {
   "cell_type": "code",
   "execution_count": 4,
   "id": "3224847a-9b68-4317-8edd-f7db5aad1da5",
   "metadata": {},
   "outputs": [
    {
     "name": "stderr",
     "output_type": "stream",
     "text": [
      "ERROR - Exception\n",
      "Traceback (most recent call last):\n",
      "  File \"C:\\Users\\ytian\\miniconda3\\envs\\localds2\\Lib\\site-packages\\IPython\\core\\interactiveshell.py\", line 3699, in run_code\n",
      "    exec(code_obj, self.user_global_ns, self.user_ns)\n",
      "  File \"C:\\Users\\ytian\\AppData\\Local\\Temp\\ipykernel_49964\\361131666.py\", line 1, in <module>\n",
      "    from ads.llm import GenerativeAIEmbeddings, GenerativeAI\n",
      "ImportError: cannot import name 'GenerativeAIEmbeddings' from 'ads.llm' (C:\\Users\\ytian\\miniconda3\\envs\\localds2\\Lib\\site-packages\\ads\\llm\\__init__.py)\n",
      "ImportError: cannot import name 'GenerativeAIEmbeddings' from 'ads.llm' (C:\\Users\\ytian\\miniconda3\\envs\\localds2\\Lib\\site-packages\\ads\\llm\\__init__.py)"
     ]
    }
   ],
   "source": [
    "from ads.llm import GenerativeAIEmbeddings, GenerativeAI\n",
    "from ads.llm.deploy import ChainDeployment\n",
    "#from langchain.vectorstroes import FAISS\n",
    "from langchain.chains import RetrievalQA"
   ]
  },
  {
   "cell_type": "code",
   "execution_count": null,
   "id": "bc654751-8150-40f5-bb75-f477cb09b148",
   "metadata": {},
   "outputs": [],
   "source": [
    "ads.set_auth(auth='resource_principal\")\n"
   ]
  },
  {
   "cell_type": "code",
   "execution_count": null,
   "id": "46e4c048-8df6-4da4-ba20-b8b86b3e813f",
   "metadata": {},
   "outputs": [],
   "source": [
    "embedings = GenerativeAIEmbeddings(\n",
    "    compartment_id='ocid1.compartment.oc1..aaaaaaa307etbcfg2o25jxks2pucmyrz6z5gpx3q355nikleemq\",\n",
    "    client_kwargs=dict(service_endpoint='https://inference.generativeai.us-chicago-1.oci.oraclecloud.com'}\n",
    ")\n",
    "\n",
    "llm = GenerativeAI(\n",
    "    compartment_id=\"ocid1.compartment.oc1..aaaaaaaa3o77ebcfg2o25jxks2pucmyrz6z5lgpx3q355nikleemq',\n",
    "    client_kwargs=dict(service_endpoint='https://inference.generativeai.us-chicago-1.oci.oraclecloud.com')\n",
    ")\n"
   ]
  },
  {
   "cell_type": "code",
   "execution_count": null,
   "id": "1a36c0b5-5a4b-4bb9-a558-255dcd66b932",
   "metadata": {},
   "outputs": [],
   "source": [
    "from langchain.document_loaders import TextLoader\n",
    "from langchain.text_splitter import CharacterTextSplitter\n",
    "\n",
    "loader = TextLoader('ai-foundations.txt')\n",
    "documents = loader.load()\n",
    "text_splitter = CharacterTextSplitter(chunk_size=500, chunk_overlap=50)\n",
    "docs = text_splitter.split_documents(documents)\n",
    "\n",
    "db = FAISS.from_documents(docs, embedings)\n",
    "\n",
    "retv = db.as_retriever()\n",
    "chain= RetrievalQA.from_chain_type(llm=llm, retriever=retv)\n",
    "\n",
    "import tempfile\n",
    "from ads.llm.deploy import ChainDeployment\n",
    "\n",
    "artifact_dir = tempfile.mkdtemp()\n",
    "\n",
    "model = ChainDeployment(\n",
    "    chain = chain,\n",
    "    artifact_dir=artifact_dir,\n",
    "    force_overwrite=True\n",
    ")\n",
    "\n",
    "model.prepare(force_overwrite=True,\n",
    "              inference_conda_env='pytorch21_p39_gpu_v1',\n",
    "              inference_python_version='3.9',\n",
    "             )\n",
    "\n",
    "model.verify('what is AI Foundation Course')\n",
    "model.save()\n",
    "model.deploy(environment_variables={'CRYPTOGRAPHY_OPENSSL_NO_LEGACY':'1'},\n",
    "             deployment_log_group_id='ocid1.loggroup.oc1.us-chicago-1.amaaaaaajcishjiazonw73ce54gyv2i32x7rgx42zlr65h2sbzgjobipt5mq',\n",
    "             deployment_access_log_id='ocid1.log.oc1.us-chicago-1.amaaaaaaajisnjiakhi42opuy45virks2b4omdhsvxxx2xnenvkegwjz3pa')\n",
    "\n",
    "model.predict('who are instructor fo AI Foundations?')\n"
   ]
  }
 ],
 "metadata": {
  "kernelspec": {
   "display_name": "Python (localds2)",
   "language": "python",
   "name": "localds2"
  },
  "language_info": {
   "codemirror_mode": {
    "name": "ipython",
    "version": 3
   },
   "file_extension": ".py",
   "mimetype": "text/x-python",
   "name": "python",
   "nbconvert_exporter": "python",
   "pygments_lexer": "ipython3",
   "version": "3.11.13"
  }
 },
 "nbformat": 4,
 "nbformat_minor": 5
}
