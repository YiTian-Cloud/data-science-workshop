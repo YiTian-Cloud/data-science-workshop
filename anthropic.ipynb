{
 "cells": [
  {
   "cell_type": "code",
   "execution_count": null,
   "id": "b92259ce-81fb-4859-a559-a22d16af985b",
   "metadata": {},
   "outputs": [],
   "source": [
    "from anthropic import Anthropic\n",
    "\n",
    "client = Anthropic()\n",
    "\n",
    "resp = client.message.create(\n",
    "    model=\"claude-sonnet-4-5\",\n",
    "    max_tokens=300,\n",
    "    messages=[{\"role\":\"user\",\"conent\":\"Give me 3 bullet points on API versioning best practice.\"}],\n",
    ")\n",
    "print(resp.conten[0].text)\n",
    "\n"
   ]
  }
 ],
 "metadata": {
  "kernelspec": {
   "display_name": "Python (localds2)",
   "language": "python",
   "name": "localds2"
  },
  "language_info": {
   "codemirror_mode": {
    "name": "ipython",
    "version": 3
   },
   "file_extension": ".py",
   "mimetype": "text/x-python",
   "name": "python",
   "nbconvert_exporter": "python",
   "pygments_lexer": "ipython3",
   "version": "3.11.13"
  }
 },
 "nbformat": 4,
 "nbformat_minor": 5
}
