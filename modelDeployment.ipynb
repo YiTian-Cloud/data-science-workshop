{
 "cells": [
  {
   "cell_type": "raw",
   "id": "5cb2d845-c6cf-473e-99db-b18414a5746b",
   "metadata": {},
   "source": [
    "# ======================================================================\n",
    "# 🧩 STEP 1 — Imports and Setup\n",
    "# ----------------------------------------------------------------------\n",
    "# This section loads the Oracle ADS SDK, TensorFlow, and authentication\n",
    "# configuration required to access your OCI tenancy.\n",
    "# ======================================================================\n",
    "\n",
    "import os\n",
    "from ads.model import TensorFlowModel\n",
    "from ads.common.auth import default_signer\n",
    "from tensorflow import keras\n",
    "\n",
    "# ✅ Use the default OCI authentication (requires ~/.oci/config)\n",
    "auth = default_signer()\n",
    "\n",
    "# ✅ Your Compartment OCID (replace this with your own compartment OCID)\n",
    "compartment_id = \"ocid1.compartment.oc1..your_compartment_ocid_here\"\n",
    "\n",
    "# ✅ Path to your locally trained model artifacts\n",
    "# Use raw string (r\"\") to avoid Windows backslash escape issues\n",
    "artifact_dir = r\"C:\\Users\\ytian\\AppData\\Local\\Temp\\tmpt79a049g\"\n",
    "\n",
    "print(f\"📂 Using artifact directory: {artifact_dir}\")\n",
    "\n",
    "# ======================================================================\n",
    "# 🧩 STEP 2 — Load Your Local TensorFlow Model\n",
    "# ----------------------------------------------------------------------\n",
    "# This step loads the model that you previously saved (e.g., model.keras)\n",
    "# from the local directory. This model will be wrapped into an ADS object.\n",
    "# ======================================================================\n",
    "\n",
    "model_path = os.path.join(artifact_dir, \"model.keras\")\n",
    "\n",
    "if os.path.exists(model_path):\n",
    "    model = keras.models.load_model(model_path)\n",
    "    print(\"✅ Model loaded successfully from .keras file\")\n",
    "else:\n",
    "    raise FileNotFoundError(f\"❌ Model file not found at {model_path}\")\n",
    "\n",
    "# ======================================================================\n",
    "# 🧩 STEP 3 — Wrap the Model Using ADS TensorFlowModel\n",
    "# ----------------------------------------------------------------------\n",
    "# The TensorFlowModel wrapper integrates your Keras model with Oracle ADS.\n",
    "# It enables you to prepare artifacts and register/deploy within OCI.\n",
    "# ======================================================================\n",
    "\n",
    "tf_model = TensorFlowModel(\n",
    "    estimator=model,\n",
    "    artifact_dir=artifact_dir,\n",
    "    auth=auth\n",
    ")\n",
    "\n",
    "print(\"✅ TensorFlowModel wrapper initialized\")\n",
    "\n",
    "# ======================================================================\n",
    "# 🧩 STEP 4 — Prepare Model Artifacts\n",
    "# ----------------------------------------------------------------------\n",
    "# This creates runtime.yaml, score.py, and other required metadata files.\n",
    "# The environment name must match an OCI Data Science Conda environment.\n",
    "# ======================================================================\n",
    "\n",
    "tf_model.prepare(\n",
    "    inference_conda_env=\"tensorflow28_p38_cpu_v1\",  # or any matching OCI env\n",
    "    force_overwrite=True\n",
    ")\n",
    "\n",
    "print(\"✅ Model artifacts prepared successfully\")\n",
    "\n",
    "# ======================================================================\n",
    "# 🧩 STEP 5 — Register the Model to OCI Model Catalog\n",
    "# ----------------------------------------------------------------------\n",
    "# This uploads the model metadata and artifacts into your OCI compartment\n",
    "# under the Data Science \"Models\" section.\n",
    "# ======================================================================\n",
    "\n",
    "registered_model = tf_model.register(\n",
    "    display_name=\"Fashion MNIST TensorFlow Model\",\n",
    "    description=\"A locally trained TensorFlow model registered via Oracle ADS\",\n",
    "    compartment_id=compartment_id\n",
    ")\n",
    "\n",
    "print(\"✅ Model registered successfully!\")\n",
    "print(f\"🔗 OCI Model OCID: {registered_model.id}\")\n",
    "\n",
    "# ======================================================================\n",
    "# 🧩 STEP 6 — (Optional) Verify and Inspect the Registered Model\n",
    "# ----------------------------------------------------------------------\n",
    "# You can confirm your model in the OCI Console:\n",
    "# Console → Data Science → Models → <Your Model Name>\n",
    "# ======================================================================\n",
    "\n",
    "print(\"\\n🎯 Model registration complete. You can now view it in the OCI Console.\")\n",
    "print(\"Path:\", artifact_dir)\n"
   ]
  },
  {
   "cell_type": "code",
   "execution_count": 1,
   "id": "08ab5fe0-df31-4ed3-bcd3-90eadb2d19ec",
   "metadata": {},
   "outputs": [
    {
     "data": {
      "image/png": "[encoded data removed]",
      "text/plain": [
       "<Figure size 600x600 with 9 Axes>"
      ]
     },
     "metadata": {},
     "output_type": "display_data"
    }
   ],
   "source": [
    "import tensorflow as tf\n",
    "from matplotlib import pyplot as plt\n",
    "\n",
    "# ✅ The correct module name is 'datasets', not 'dataset'\n",
    "fmnist = tf.keras.datasets.fashion_mnist\n",
    "\n",
    "# ✅ Correct function call\n",
    "(X_train, y_train), (X_test, y_test) = fmnist.load_data()\n",
    "\n",
    "# ✅ Display the first 9 images\n",
    "plt.figure(figsize=(6,6))\n",
    "for i in range(9):\n",
    "    plt.subplot(3, 3, i + 1)\n",
    "    plt.imshow(X_train[i], cmap='gray')\n",
    "    plt.axis('off')\n",
    "plt.show()\n"
   ]
  },
  {
   "cell_type": "code",
   "execution_count": 4,
   "id": "45c5565a-c46b-4d78-9737-8c68db6c41e6",
   "metadata": {},
   "outputs": [],
   "source": [
    "class TFModel:\n",
    "    fmnist = tf.keras.datasets.fashion_mnist\n",
    "    (X_train, y_train), (X_test, y_test) = fmnist.load_data()\n",
    "    X_train, x_test = X_train/255, X_test/255\n",
    "    X_train, y_train = X_train[:10000],y_train[:10000]\n",
    "\n",
    "    def training(self):\n",
    "        model=tf.keras.models.Sequential(\n",
    "            [\n",
    "                tf.keras.layers.Flatten(input_shape=(28,28)),\n",
    "                tf.keras.layers.Dense(128,activation='relu'),\n",
    "                tf.keras.layers.Dropout(0.2),\n",
    "                tf.keras.layers.Dense(10),\n",
    "            ]\n",
    "        )\n",
    "        loss_fn=tf.keras.losses.SparseCategoricalCrossentropy(from_logits=True)\n",
    "        model.compile(optimizer='adam', loss=loss_fn, metrics=['accuracy'])\n",
    "        model.fit(self.X_train, self.y_train, epochs=1)\n",
    "\n",
    "        return model\n",
    "        "
   ]
  },
  {
   "cell_type": "code",
   "execution_count": 7,
   "id": "3f7d4396-653f-44ff-b64e-31fed17620b8",
   "metadata": {},
   "outputs": [
    {
     "name": "stdout",
     "output_type": "stream",
     "text": [
      "WARNING:py.warnings:C:\\Users\\ytian\\miniconda3\\envs\\localds2\\Lib\\site-packages\\keras\\src\\layers\\reshaping\\flatten.py:37: UserWarning: Do not pass an `input_shape`/`input_dim` argument to a layer. When using Sequential models, prefer using an `Input(shape)` object as the first layer in the model instead.\n",
      "  super().__init__(**kwargs)\n",
      "\n",
      "\u001b[1m313/313\u001b[0m \u001b[32m━━━━━━━━━━━━━━━━━━━━\u001b[0m\u001b[37m\u001b[0m \u001b[1m2s\u001b[0m 3ms/step - accuracy: 0.7342 - loss: 0.7603\n"
     ]
    }
   ],
   "source": [
    "tfmodel = TFModel()\n",
    "model = tfmodel.training()"
   ]
  },
  {
   "cell_type": "code",
   "execution_count": 8,
   "id": "08c637b8-1930-4aea-a88e-54a992b4239b",
   "metadata": {},
   "outputs": [
    {
     "name": "stdout",
     "output_type": "stream",
     "text": [
      "\u001b[1m313/313\u001b[0m \u001b[32m━━━━━━━━━━━━━━━━━━━━\u001b[0m\u001b[37m\u001b[0m \u001b[1m2s\u001b[0m 3ms/step - accuracy: 0.7189 - loss: 0.7924\n",
      "\u001b[1m1/1\u001b[0m \u001b[32m━━━━━━━━━━━━━━━━━━━━\u001b[0m\u001b[37m\u001b[0m \u001b[1m0s\u001b[0m 84ms/step\n",
      "Predicted class: [9]\n",
      "True label: 9\n"
     ]
    }
   ],
   "source": [
    "import numpy as np\n",
    "\n",
    "# Create a new instance (optional — or reuse tfmodel)\n",
    "tfmodel = TFModel()\n",
    "model = tfmodel.training()\n",
    "\n",
    "# Get the first test image (reshape to batch size = 1)\n",
    "sample = tfmodel.X_test[0:1]  # ✅ correct slicing\n",
    "pred = model.predict(sample)\n",
    "\n",
    "# Convert raw logits to predicted class\n",
    "predicted_class = np.argmax(pred, axis=1)\n",
    "print(\"Predicted class:\", predicted_class)\n",
    "print(\"True label:\", tfmodel.y_test[0])\n"
   ]
  },
  {
   "cell_type": "code",
   "execution_count": 10,
   "id": "552383c8-2d21-4add-bb0b-b830ea75566c",
   "metadata": {},
   "outputs": [
    {
     "name": "stdout",
     "output_type": "stream",
     "text": [
      "✅ Local artifact directory: C:\\Users\\ytian\\AppData\\Local\\Temp\\tmpyu188aef\n",
      "INFO:tensorflow:Assets written to: C:\\Users\\ytian\\AppData\\Local\\Temp\\tmpyu188aef\\model\\assets\n",
      "Saved artifact at 'C:\\Users\\ytian\\AppData\\Local\\Temp\\tmpyu188aef\\model'. The following endpoints are available:\n",
      "\n",
      "* Endpoint 'serve'\n",
      "  args_0 (POSITIONAL_ONLY): TensorSpec(shape=(None, 28, 28), dtype=tf.float32, name='keras_tensor_5')\n",
      "Output Type:\n",
      "  TensorSpec(shape=(None, 10), dtype=tf.float32, name=None)\n",
      "Captures:\n",
      "  1653360057360: TensorSpec(shape=(), dtype=tf.resource, name=None)\n",
      "  1653360056592: TensorSpec(shape=(), dtype=tf.resource, name=None)\n",
      "  1653360053328: TensorSpec(shape=(), dtype=tf.resource, name=None)\n",
      "  1653360053904: TensorSpec(shape=(), dtype=tf.resource, name=None)\n",
      "✅ Model packaged locally (OCI-free).\n",
      "📂 Files in artifact dir: ['model', 'runtime.yaml', 'score.py']\n"
     ]
    }
   ],
   "source": [
    "# === Step 3: Package locally (OCI-free) ===\n",
    "import yaml\n",
    "\n",
    "artifact_dir = tempfile.mkdtemp()\n",
    "print(f\"✅ Local artifact directory: {artifact_dir}\")\n",
    "\n",
    "# Save TensorFlow model (✅ correct format)\n",
    "model_save_path = os.path.join(artifact_dir, \"model\")\n",
    "model.export(model_save_path)  # instead of model.save()\n",
    "\n",
    "# Create runtime.yaml manually\n",
    "runtime_yaml = {\n",
    "    \"INFERENCE_ENV_PATH\": \"tensorflow26_p37_cpu_v2\",\n",
    "    \"MODEL_ARTIFACT_VERSION\": \"2.0\",\n",
    "    \"MODEL_DEPLOYMENT\": {\n",
    "        \"INFERENCE_CONDA_ENV\": \"tensorflow26_p37_cpu_v2\",\n",
    "        \"INFERENCE_ENV_SLUG\": \"tensorflow26\",\n",
    "        \"INFERENCE_ENV_TYPE\": \"python\"\n",
    "    }\n",
    "}\n",
    "with open(os.path.join(artifact_dir, \"runtime.yaml\"), \"w\") as f:\n",
    "    yaml.dump(runtime_yaml, f)\n",
    "\n",
    "# Create score.py manually\n",
    "score_py = \"\"\"import tensorflow as tf\n",
    "import numpy as np\n",
    "import os\n",
    "\n",
    "def load_model(model_dir):\n",
    "    return tf.keras.models.load_model(os.path.join(model_dir, \"model\"))\n",
    "\n",
    "def predict(data, model):\n",
    "    arr = np.array(data)\n",
    "    preds = model.predict(arr)\n",
    "    return preds.tolist()\n",
    "\"\"\"\n",
    "with open(os.path.join(artifact_dir, \"score.py\"), \"w\") as f:\n",
    "    f.write(score_py)\n",
    "\n",
    "print(\"✅ Model packaged locally (OCI-free).\")\n",
    "print(\"📂 Files in artifact dir:\", os.listdir(artifact_dir))\n"
   ]
  }
 ],
 "metadata": {
  "kernelspec": {
   "display_name": "Python (localds2)",
   "language": "python",
   "name": "localds2"
  },
  "language_info": {
   "codemirror_mode": {
    "name": "ipython",
    "version": 3
   },
   "file_extension": ".py",
   "mimetype": "text/x-python",
   "name": "python",
   "nbconvert_exporter": "python",
   "pygments_lexer": "ipython3",
   "version": "3.11.13"
  }
 },
 "nbformat": 4,
 "nbformat_minor": 5
}
